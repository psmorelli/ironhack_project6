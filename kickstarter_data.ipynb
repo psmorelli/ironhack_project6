{
 "nbformat": 4,
 "nbformat_minor": 2,
 "metadata": {
  "language_info": {
   "name": "python",
   "codemirror_mode": {
    "name": "ipython",
    "version": 3
   },
   "version": "3.7.6-final"
  },
  "orig_nbformat": 2,
  "file_extension": ".py",
  "mimetype": "text/x-python",
  "name": "python",
  "npconvert_exporter": "python",
  "pygments_lexer": "ipython3",
  "version": 3,
  "kernelspec": {
   "name": "python37664bitcoderedconda693c8a623b8d44c8a58a234a9205c665",
   "display_name": "Python 3.7.6 64-bit ('code_red': conda)"
  }
 },
 "cells": [
  {
   "cell_type": "code",
   "execution_count": 175,
   "metadata": {},
   "outputs": [],
   "source": [
    "import pandas as pd\n",
    "import numpy as np\n",
    "import json"
   ]
  },
  {
   "cell_type": "code",
   "execution_count": 176,
   "metadata": {},
   "outputs": [],
   "source": [
    "sns.set_style(\"ticks\")\n",
    "%matplotlib inline\n",
    "pd.options.display.max_rows = 200\n",
    "pd.options.display.max_columns = 100"
   ]
  },
  {
   "cell_type": "code",
   "execution_count": 1,
   "metadata": {},
   "outputs": [
    {
     "ename": "NameError",
     "evalue": "name 'pd' is not defined",
     "output_type": "error",
     "traceback": [
      "\u001b[0;31m---------------------------------------------------------------------------\u001b[0m",
      "\u001b[0;31mNameError\u001b[0m                                 Traceback (most recent call last)",
      "\u001b[0;32m<ipython-input-1-8ce17dcc4cdb>\u001b[0m in \u001b[0;36m<module>\u001b[0;34m\u001b[0m\n\u001b[1;32m      1\u001b[0m \u001b[0minput_file\u001b[0m \u001b[0;34m=\u001b[0m \u001b[0;34m\"kickstarter/Kickstarter_2019-12-12T03_20_05_306Z/Kickstarter.csv\"\u001b[0m\u001b[0;34m\u001b[0m\u001b[0;34m\u001b[0m\u001b[0m\n\u001b[1;32m      2\u001b[0m \u001b[0moutput_file\u001b[0m \u001b[0;34m=\u001b[0m \u001b[0;34m\"data/Kickstarter.pkl\"\u001b[0m\u001b[0;34m\u001b[0m\u001b[0;34m\u001b[0m\u001b[0m\n\u001b[0;32m----> 3\u001b[0;31m \u001b[0mdf_kickstarter\u001b[0m \u001b[0;34m=\u001b[0m \u001b[0mpd\u001b[0m\u001b[0;34m.\u001b[0m\u001b[0mread_csv\u001b[0m\u001b[0;34m(\u001b[0m\u001b[0minput_file\u001b[0m\u001b[0;34m)\u001b[0m\u001b[0;34m\u001b[0m\u001b[0;34m\u001b[0m\u001b[0m\n\u001b[0m",
      "\u001b[0;31mNameError\u001b[0m: name 'pd' is not defined"
     ]
    }
   ],
   "source": [
    "input_file = \"kickstarter/Kickstarter_2019-12-12T03_20_05_306Z/Kickstarter.csv\"\n",
    "output_file = \"data/Kickstarter.pkl\"\n",
    "df_kickstarter = pd.read_csv(input_file)"
   ]
  },
  {
   "cell_type": "code",
   "execution_count": 178,
   "metadata": {},
   "outputs": [
    {
     "data": {
      "text/html": "<div>\n<style scoped>\n    .dataframe tbody tr th:only-of-type {\n        vertical-align: middle;\n    }\n\n    .dataframe tbody tr th {\n        vertical-align: top;\n    }\n\n    .dataframe thead th {\n        text-align: right;\n    }\n</style>\n<table border=\"1\" class=\"dataframe\">\n  <thead>\n    <tr style=\"text-align: right;\">\n      <th></th>\n      <th>backers_count</th>\n      <th>blurb</th>\n      <th>category</th>\n      <th>converted_pledged_amount</th>\n      <th>country</th>\n      <th>country_displayable_name</th>\n      <th>created_at</th>\n      <th>creator</th>\n      <th>currency</th>\n      <th>currency_symbol</th>\n      <th>currency_trailing_code</th>\n      <th>current_currency</th>\n      <th>deadline</th>\n      <th>disable_communication</th>\n      <th>friends</th>\n      <th>fx_rate</th>\n      <th>goal</th>\n      <th>id</th>\n      <th>is_backing</th>\n      <th>is_starrable</th>\n      <th>is_starred</th>\n      <th>launched_at</th>\n      <th>location</th>\n      <th>name</th>\n      <th>permissions</th>\n      <th>photo</th>\n      <th>pledged</th>\n      <th>profile</th>\n      <th>slug</th>\n      <th>source_url</th>\n      <th>spotlight</th>\n      <th>staff_pick</th>\n      <th>state</th>\n      <th>state_changed_at</th>\n      <th>static_usd_rate</th>\n      <th>urls</th>\n      <th>usd_pledged</th>\n      <th>usd_type</th>\n    </tr>\n  </thead>\n  <tbody>\n    <tr>\n      <th>0</th>\n      <td>31</td>\n      <td>Un livre enfant pour l’apprentissage des émoti...</td>\n      <td>{\"id\":46,\"name\":\"Children's Books\",\"slug\":\"pub...</td>\n      <td>709</td>\n      <td>FR</td>\n      <td>France</td>\n      <td>1561554849</td>\n      <td>{\"id\":469036700,\"name\":\"Camille de Germond\",\"i...</td>\n      <td>EUR</td>\n      <td>€</td>\n      <td>False</td>\n      <td>USD</td>\n      <td>1566744397</td>\n      <td>False</td>\n      <td>NaN</td>\n      <td>1.108973</td>\n      <td>600</td>\n      <td>1458932991</td>\n      <td>NaN</td>\n      <td>False</td>\n      <td>NaN</td>\n      <td>1561560397</td>\n      <td>{\"id\":12665488,\"name\":\"Ste.-Maxime\",\"slug\":\"st...</td>\n      <td>Louli à l’école</td>\n      <td>NaN</td>\n      <td>{\"key\":\"assets/025/618/188/1ee876a3b9923c72e2e...</td>\n      <td>631.00</td>\n      <td>{\"id\":3761403,\"project_id\":3761403,\"state\":\"in...</td>\n      <td>louli-a-lecole</td>\n      <td>https://www.kickstarter.com/discover/categorie...</td>\n      <td>True</td>\n      <td>False</td>\n      <td>successful</td>\n      <td>1566744397</td>\n      <td>1.140661</td>\n      <td>{\"web\":{\"project\":\"https://www.kickstarter.com...</td>\n      <td>719.756813</td>\n      <td>domestic</td>\n    </tr>\n    <tr>\n      <th>1</th>\n      <td>403</td>\n      <td>The true biography of the historical figure, w...</td>\n      <td>{\"id\":252,\"name\":\"Graphic Novels\",\"slug\":\"comi...</td>\n      <td>14740</td>\n      <td>US</td>\n      <td>the United States</td>\n      <td>1438740713</td>\n      <td>{\"id\":1695121020,\"name\":\"Katy Rex\",\"slug\":\"kat...</td>\n      <td>USD</td>\n      <td>$</td>\n      <td>True</td>\n      <td>USD</td>\n      <td>1442204367</td>\n      <td>False</td>\n      <td>NaN</td>\n      <td>1.000000</td>\n      <td>12000</td>\n      <td>498799566</td>\n      <td>NaN</td>\n      <td>False</td>\n      <td>NaN</td>\n      <td>1439612367</td>\n      <td>{\"id\":2452078,\"name\":\"Minneapolis\",\"slug\":\"min...</td>\n      <td>Strange Wit, an original graphic novel about J...</td>\n      <td>NaN</td>\n      <td>{\"key\":\"assets/012/216/438/fa1eea62bb76f21b650...</td>\n      <td>14740.63</td>\n      <td>{\"id\":2051485,\"project_id\":2051485,\"state\":\"ac...</td>\n      <td>strange-wit-an-original-graphic-novel-about-ja...</td>\n      <td>https://www.kickstarter.com/discover/categorie...</td>\n      <td>True</td>\n      <td>True</td>\n      <td>successful</td>\n      <td>1442204368</td>\n      <td>1.000000</td>\n      <td>{\"web\":{\"project\":\"https://www.kickstarter.com...</td>\n      <td>14740.630000</td>\n      <td>international</td>\n    </tr>\n    <tr>\n      <th>2</th>\n      <td>2</td>\n      <td>FAM is the new mobile app which combines event...</td>\n      <td>{\"id\":332,\"name\":\"Apps\",\"slug\":\"technology/app...</td>\n      <td>14</td>\n      <td>GB</td>\n      <td>the United Kingdom</td>\n      <td>1528401202</td>\n      <td>{\"id\":67455724,\"name\":\"FAM - FIND A MOTIVE MOB...</td>\n      <td>GBP</td>\n      <td>£</td>\n      <td>False</td>\n      <td>USD</td>\n      <td>1534607034</td>\n      <td>False</td>\n      <td>NaN</td>\n      <td>1.313810</td>\n      <td>100000</td>\n      <td>1540722298</td>\n      <td>NaN</td>\n      <td>False</td>\n      <td>NaN</td>\n      <td>1529423034</td>\n      <td>{\"id\":44418,\"name\":\"London\",\"slug\":\"london-gb\"...</td>\n      <td>FAM - FIND A MOTIVE MOBILE APP</td>\n      <td>NaN</td>\n      <td>{\"key\":\"assets/021/506/749/1fa63e284709fcb3ba0...</td>\n      <td>11.00</td>\n      <td>{\"id\":3399670,\"project_id\":3399670,\"state\":\"in...</td>\n      <td>fam-find-a-motive-mobile-app</td>\n      <td>https://www.kickstarter.com/discover/categorie...</td>\n      <td>False</td>\n      <td>False</td>\n      <td>failed</td>\n      <td>1534607034</td>\n      <td>1.327131</td>\n      <td>{\"web\":{\"project\":\"https://www.kickstarter.com...</td>\n      <td>14.598443</td>\n      <td>domestic</td>\n    </tr>\n    <tr>\n      <th>3</th>\n      <td>406</td>\n      <td>A graphic novel about two magical ladies in love.</td>\n      <td>{\"id\":252,\"name\":\"Graphic Novels\",\"slug\":\"comi...</td>\n      <td>21799</td>\n      <td>US</td>\n      <td>the United States</td>\n      <td>1473150836</td>\n      <td>{\"id\":248241887,\"name\":\"Pat Shand\",\"slug\":\"pat...</td>\n      <td>USD</td>\n      <td>$</td>\n      <td>True</td>\n      <td>USD</td>\n      <td>1478131200</td>\n      <td>False</td>\n      <td>NaN</td>\n      <td>1.000000</td>\n      <td>20000</td>\n      <td>621087138</td>\n      <td>NaN</td>\n      <td>False</td>\n      <td>NaN</td>\n      <td>1475565730</td>\n      <td>{\"id\":2459115,\"name\":\"New York\",\"slug\":\"new-yo...</td>\n      <td>Destiny, NY - FINAL HOURS!</td>\n      <td>NaN</td>\n      <td>{\"key\":\"assets/013/616/177/607a876e2e4acf76e97...</td>\n      <td>21799.00</td>\n      <td>{\"id\":2667503,\"project_id\":2667503,\"state\":\"ac...</td>\n      <td>destiny-ny-a-graphic-novel</td>\n      <td>https://www.kickstarter.com/discover/categorie...</td>\n      <td>True</td>\n      <td>True</td>\n      <td>successful</td>\n      <td>1478131200</td>\n      <td>1.000000</td>\n      <td>{\"web\":{\"project\":\"https://www.kickstarter.com...</td>\n      <td>21799.000000</td>\n      <td>international</td>\n    </tr>\n    <tr>\n      <th>4</th>\n      <td>1</td>\n      <td>We are publishing a magazine that focuses on t...</td>\n      <td>{\"id\":49,\"name\":\"Periodicals\",\"slug\":\"publishi...</td>\n      <td>10</td>\n      <td>US</td>\n      <td>the United States</td>\n      <td>1310702133</td>\n      <td>{\"id\":1345074053,\"name\":\"Preston Copeland\",\"is...</td>\n      <td>USD</td>\n      <td>$</td>\n      <td>True</td>\n      <td>USD</td>\n      <td>1317747868</td>\n      <td>False</td>\n      <td>NaN</td>\n      <td>1.000000</td>\n      <td>5000</td>\n      <td>1760442719</td>\n      <td>NaN</td>\n      <td>False</td>\n      <td>NaN</td>\n      <td>1315155868</td>\n      <td>{\"id\":2441116,\"name\":\"Logan\",\"slug\":\"logan-ut\"...</td>\n      <td>Publishing Magus Magazine</td>\n      <td>NaN</td>\n      <td>{\"key\":\"assets/011/292/182/9a4cc3b4edd601e5add...</td>\n      <td>10.00</td>\n      <td>{\"id\":43087,\"project_id\":43087,\"state\":\"inacti...</td>\n      <td>publishing-magus-magazine</td>\n      <td>https://www.kickstarter.com/discover/categorie...</td>\n      <td>False</td>\n      <td>False</td>\n      <td>failed</td>\n      <td>1317747868</td>\n      <td>1.000000</td>\n      <td>{\"web\":{\"project\":\"https://www.kickstarter.com...</td>\n      <td>10.000000</td>\n      <td>domestic</td>\n    </tr>\n  </tbody>\n</table>\n</div>",
      "text/plain": "   backers_count                                              blurb  \\\n0             31  Un livre enfant pour l’apprentissage des émoti...   \n1            403  The true biography of the historical figure, w...   \n2              2  FAM is the new mobile app which combines event...   \n3            406  A graphic novel about two magical ladies in love.   \n4              1  We are publishing a magazine that focuses on t...   \n\n                                            category  \\\n0  {\"id\":46,\"name\":\"Children's Books\",\"slug\":\"pub...   \n1  {\"id\":252,\"name\":\"Graphic Novels\",\"slug\":\"comi...   \n2  {\"id\":332,\"name\":\"Apps\",\"slug\":\"technology/app...   \n3  {\"id\":252,\"name\":\"Graphic Novels\",\"slug\":\"comi...   \n4  {\"id\":49,\"name\":\"Periodicals\",\"slug\":\"publishi...   \n\n   converted_pledged_amount country country_displayable_name  created_at  \\\n0                       709      FR                   France  1561554849   \n1                     14740      US        the United States  1438740713   \n2                        14      GB       the United Kingdom  1528401202   \n3                     21799      US        the United States  1473150836   \n4                        10      US        the United States  1310702133   \n\n                                             creator currency currency_symbol  \\\n0  {\"id\":469036700,\"name\":\"Camille de Germond\",\"i...      EUR               €   \n1  {\"id\":1695121020,\"name\":\"Katy Rex\",\"slug\":\"kat...      USD               $   \n2  {\"id\":67455724,\"name\":\"FAM - FIND A MOTIVE MOB...      GBP               £   \n3  {\"id\":248241887,\"name\":\"Pat Shand\",\"slug\":\"pat...      USD               $   \n4  {\"id\":1345074053,\"name\":\"Preston Copeland\",\"is...      USD               $   \n\n   currency_trailing_code current_currency    deadline  disable_communication  \\\n0                   False              USD  1566744397                  False   \n1                    True              USD  1442204367                  False   \n2                   False              USD  1534607034                  False   \n3                    True              USD  1478131200                  False   \n4                    True              USD  1317747868                  False   \n\n   friends   fx_rate    goal          id  is_backing  is_starrable  \\\n0      NaN  1.108973     600  1458932991         NaN         False   \n1      NaN  1.000000   12000   498799566         NaN         False   \n2      NaN  1.313810  100000  1540722298         NaN         False   \n3      NaN  1.000000   20000   621087138         NaN         False   \n4      NaN  1.000000    5000  1760442719         NaN         False   \n\n   is_starred  launched_at                                           location  \\\n0         NaN   1561560397  {\"id\":12665488,\"name\":\"Ste.-Maxime\",\"slug\":\"st...   \n1         NaN   1439612367  {\"id\":2452078,\"name\":\"Minneapolis\",\"slug\":\"min...   \n2         NaN   1529423034  {\"id\":44418,\"name\":\"London\",\"slug\":\"london-gb\"...   \n3         NaN   1475565730  {\"id\":2459115,\"name\":\"New York\",\"slug\":\"new-yo...   \n4         NaN   1315155868  {\"id\":2441116,\"name\":\"Logan\",\"slug\":\"logan-ut\"...   \n\n                                                name  permissions  \\\n0                                    Louli à l’école          NaN   \n1  Strange Wit, an original graphic novel about J...          NaN   \n2                     FAM - FIND A MOTIVE MOBILE APP          NaN   \n3                         Destiny, NY - FINAL HOURS!          NaN   \n4                          Publishing Magus Magazine          NaN   \n\n                                               photo   pledged  \\\n0  {\"key\":\"assets/025/618/188/1ee876a3b9923c72e2e...    631.00   \n1  {\"key\":\"assets/012/216/438/fa1eea62bb76f21b650...  14740.63   \n2  {\"key\":\"assets/021/506/749/1fa63e284709fcb3ba0...     11.00   \n3  {\"key\":\"assets/013/616/177/607a876e2e4acf76e97...  21799.00   \n4  {\"key\":\"assets/011/292/182/9a4cc3b4edd601e5add...     10.00   \n\n                                             profile  \\\n0  {\"id\":3761403,\"project_id\":3761403,\"state\":\"in...   \n1  {\"id\":2051485,\"project_id\":2051485,\"state\":\"ac...   \n2  {\"id\":3399670,\"project_id\":3399670,\"state\":\"in...   \n3  {\"id\":2667503,\"project_id\":2667503,\"state\":\"ac...   \n4  {\"id\":43087,\"project_id\":43087,\"state\":\"inacti...   \n\n                                                slug  \\\n0                                     louli-a-lecole   \n1  strange-wit-an-original-graphic-novel-about-ja...   \n2                       fam-find-a-motive-mobile-app   \n3                         destiny-ny-a-graphic-novel   \n4                          publishing-magus-magazine   \n\n                                          source_url  spotlight  staff_pick  \\\n0  https://www.kickstarter.com/discover/categorie...       True       False   \n1  https://www.kickstarter.com/discover/categorie...       True        True   \n2  https://www.kickstarter.com/discover/categorie...      False       False   \n3  https://www.kickstarter.com/discover/categorie...       True        True   \n4  https://www.kickstarter.com/discover/categorie...      False       False   \n\n        state  state_changed_at  static_usd_rate  \\\n0  successful        1566744397         1.140661   \n1  successful        1442204368         1.000000   \n2      failed        1534607034         1.327131   \n3  successful        1478131200         1.000000   \n4      failed        1317747868         1.000000   \n\n                                                urls   usd_pledged  \\\n0  {\"web\":{\"project\":\"https://www.kickstarter.com...    719.756813   \n1  {\"web\":{\"project\":\"https://www.kickstarter.com...  14740.630000   \n2  {\"web\":{\"project\":\"https://www.kickstarter.com...     14.598443   \n3  {\"web\":{\"project\":\"https://www.kickstarter.com...  21799.000000   \n4  {\"web\":{\"project\":\"https://www.kickstarter.com...     10.000000   \n\n        usd_type  \n0       domestic  \n1  international  \n2       domestic  \n3  international  \n4       domestic  "
     },
     "execution_count": 178,
     "metadata": {},
     "output_type": "execute_result"
    }
   ],
   "source": [
    "df_kickstarter.head()"
   ]
  },
  {
   "cell_type": "code",
   "execution_count": 179,
   "metadata": {},
   "outputs": [],
   "source": [
    "df_kickstarter[\"usd_goal\"]      =   df_kickstarter[\"goal\"] * df_kickstarter[\"static_usd_rate\"]\n",
    "df_kickstarter[\"created_at\"]    =   pd.to_datetime(df_kickstarter[\"created_at\"], unit='s')\n",
    "df_kickstarter[\"deadline\"]      =   pd.to_datetime(df_kickstarter[\"deadline\"], unit='s')\n",
    "df_kickstarter[\"launched_at\"]   =   pd.to_datetime(df_kickstarter[\"launched_at\"], unit='s')\n",
    "df_kickstarter[\"state_changed_at\"]   =   pd.to_datetime(df_kickstarter[\"state_changed_at\"], unit='s')"
   ]
  },
  {
   "cell_type": "code",
   "execution_count": 180,
   "metadata": {},
   "outputs": [],
   "source": [
    "def extract_category_lvl1(json_data):\n",
    "    parsed_json = (json.loads(json_data))\n",
    "    try:\n",
    "        cat = parsed_json[\"slug\"].split(\"/\")[0]\n",
    "    except:\n",
    "        cat = np.nan\n",
    "    return  cat"
   ]
  },
  {
   "cell_type": "code",
   "execution_count": 181,
   "metadata": {},
   "outputs": [],
   "source": [
    "def extract_category_lvl2(json_data):\n",
    "    parsed_json = (json.loads(json_data))\n",
    "    try:\n",
    "        cat = parsed_json[\"slug\"].split(\"/\")[1]\n",
    "    except:\n",
    "        cat = np.nan\n",
    "    return  cat"
   ]
  },
  {
   "cell_type": "code",
   "execution_count": 182,
   "metadata": {},
   "outputs": [],
   "source": [
    "def extrat_user_id(json_data):\n",
    "    try:\n",
    "        json_data = json_data\n",
    "        parsed_json = (json.loads(json_data))\n",
    "        id = str(parsed_json[\"id\"])\n",
    "    except:\n",
    "        id = np.nan\n",
    "    return id"
   ]
  },
  {
   "cell_type": "code",
   "execution_count": 183,
   "metadata": {},
   "outputs": [],
   "source": [
    "def extrat_url(json_data):\n",
    "    try:\n",
    "        json_data = json_data\n",
    "        parsed_json = (json.loads(json_data))\n",
    "        url = parsed_json[\"web\"][\"project\"]\n",
    "    except:\n",
    "        url = np.nan\n",
    "    return url"
   ]
  },
  {
   "cell_type": "code",
   "execution_count": 184,
   "metadata": {},
   "outputs": [],
   "source": [
    "df_kickstarter[\"category_lvl1\"] = df_kickstarter[\"category\"].apply(lambda x: extract_category_lvl1(x))\n",
    "df_kickstarter[\"category_lvl2\"] = df_kickstarter[\"category\"].apply(lambda x: extract_category_lvl2(x))\n",
    "df_kickstarter[\"user_id\"] = df_kickstarter[\"creator\"].apply(lambda x: extrat_user_id(x))\n",
    "df_kickstarter[\"project_url\"] = df_kickstarter[\"urls\"].apply(lambda x: extrat_url(x))"
   ]
  },
  {
   "cell_type": "code",
   "execution_count": 185,
   "metadata": {},
   "outputs": [
    {
     "data": {
      "text/plain": "backers_count                        int64\nblurb                               object\ncategory                            object\nconverted_pledged_amount             int64\ncountry                             object\ncountry_displayable_name            object\ncreated_at                  datetime64[ns]\ncreator                             object\ncurrency                            object\ncurrency_symbol                     object\ncurrency_trailing_code                bool\ncurrent_currency                    object\ndeadline                    datetime64[ns]\ndisable_communication                 bool\nfriends                            float64\nfx_rate                            float64\ngoal                                 int64\nid                                   int64\nis_backing                         float64\nis_starrable                          bool\nis_starred                         float64\nlaunched_at                 datetime64[ns]\nlocation                            object\nname                                object\npermissions                        float64\nphoto                               object\npledged                            float64\nprofile                             object\nslug                                object\nsource_url                          object\nspotlight                             bool\nstaff_pick                            bool\nstate                               object\nstate_changed_at            datetime64[ns]\nstatic_usd_rate                    float64\nurls                                object\nusd_pledged                        float64\nusd_type                            object\nusd_goal                           float64\ncategory_lvl1                       object\ncategory_lvl2                       object\nuser_id                             object\nproject_url                         object\ndtype: object"
     },
     "execution_count": 185,
     "metadata": {},
     "output_type": "execute_result"
    }
   ],
   "source": [
    "df_kickstarter.dtypes"
   ]
  },
  {
   "cell_type": "code",
   "execution_count": 186,
   "metadata": {},
   "outputs": [],
   "source": [
    "columns =   [\"slug\",\n",
    "             \"name\",\n",
    "             \"blurb\",\n",
    "             \"category_lvl1\",\n",
    "             \"category_lvl2\",\n",
    "             \"country\",\n",
    "             \"created_at\",\n",
    "             \"deadline\",\n",
    "             \"launched_at\",\n",
    "             \"usd_goal\",\n",
    "             \"usd_pledged\",\n",
    "             \"state\",\n",
    "             \"state_changed_at\",\n",
    "             \"backers_count\",\n",
    "             \"user_id\",\n",
    "             \"project_url\"\n",
    "             ]"
   ]
  },
  {
   "cell_type": "code",
   "execution_count": 187,
   "metadata": {},
   "outputs": [],
   "source": [
    "df_kickstarter = df_kickstarter[columns]"
   ]
  },
  {
   "cell_type": "code",
   "execution_count": 189,
   "metadata": {},
   "outputs": [],
   "source": [
    "df_kickstarter.to_pickle(output_file)"
   ]
  },
  {
   "cell_type": "code",
   "execution_count": null,
   "metadata": {},
   "outputs": [],
   "source": []
  }
 ]
}