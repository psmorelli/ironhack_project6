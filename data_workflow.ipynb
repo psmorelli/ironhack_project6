{
 "cells": [
  {
   "cell_type": "markdown",
   "metadata": {},
   "source": [
    "## Data Wrangling Process\n",
    "### Steps to create dataset for analysis"
   ]
  },
  {
   "cell_type": "markdown",
   "metadata": {},
   "source": [
    "### Import libraries"
   ]
  },
  {
   "cell_type": "code",
   "execution_count": 1,
   "metadata": {},
   "outputs": [],
   "source": [
    "import os\n",
    "import re\n",
    "from etl import data_wrangling as dw"
   ]
  },
  {
   "cell_type": "markdown",
   "metadata": {},
   "source": [
    "### Set source folder and output file\n",
    "* source folder contain all extrations of kickstarter.com on 2019 executed by webrobots.io trough scraping and shared by partitioned CSV files. "
   ]
  },
  {
   "cell_type": "code",
   "execution_count": 2,
   "metadata": {},
   "outputs": [],
   "source": [
    "source_directory = \"kickstarter\"\n",
    "output_file = \"data/Kickstarter_fixed_date_2019.pkl\""
   ]
  },
  {
   "cell_type": "markdown",
   "metadata": {},
   "source": [
    "### Extract, transform and save new file merged\n",
    "* Iteract trough all directories and files and apply function etl.data_wrangling.merge_files_fixed_date to extract relevant data, transform/clean columns and save new file merge_files_fixed_date"
   ]
  },
  {
   "cell_type": "code",
   "execution_count": 4,
   "metadata": {},
   "outputs": [
    {
     "name": "stdout",
     "output_type": "stream",
     "text": "09Z/Kickstarter047.csv\nkickstarter/Kickstarter_2019-07-18T03_20_05_009Z/Kickstarter048.csv\nkickstarter/Kickstarter_2019-07-18T03_20_05_009Z/Kickstarter049.csv\nkickstarter/Kickstarter_2019-07-18T03_20_05_009Z/Kickstarter050.csv\nkickstarter/Kickstarter_2019-07-18T03_20_05_009Z/Kickstarter051.csv\nkickstarter/Kickstarter_2019-07-18T03_20_05_009Z/Kickstarter052.csv\nkickstarter/Kickstarter_2019-07-18T03_20_05_009Z/Kickstarter053.csv\nkickstarter/Kickstarter_2019-07-18T03_20_05_009Z/Kickstarter054.csv\nkickstarter/Kickstarter_2019-07-18T03_20_05_009Z/Kickstarter055.csv\nkickstarter/Kickstarter_2019-07-18T03_20_05_009Z/Kickstarter056.csv\nkickstarter/Kickstarter_2019-08-15T03_20_03_022Z/Kickstarter.csv\nkickstarter/Kickstarter_2019-08-15T03_20_03_022Z/Kickstarter001.csv\nkickstarter/Kickstarter_2019-08-15T03_20_03_022Z/Kickstarter002.csv\nkickstarter/Kickstarter_2019-08-15T03_20_03_022Z/Kickstarter003.csv\nkickstarter/Kickstarter_2019-08-15T03_20_03_022Z/Kickstarter004.csv\nkickstarter/Kickstarter_2019-08-15T03_20_03_022Z/Kickstarter005.csv\nkickstarter/Kickstarter_2019-08-15T03_20_03_022Z/Kickstarter006.csv\nkickstarter/Kickstarter_2019-08-15T03_20_03_022Z/Kickstarter007.csv\nkickstarter/Kickstarter_2019-08-15T03_20_03_022Z/Kickstarter008.csv\nkickstarter/Kickstarter_2019-08-15T03_20_03_022Z/Kickstarter009.csv\nkickstarter/Kickstarter_2019-08-15T03_20_03_022Z/Kickstarter010.csv\nkickstarter/Kickstarter_2019-08-15T03_20_03_022Z/Kickstarter011.csv\nkickstarter/Kickstarter_2019-08-15T03_20_03_022Z/Kickstarter012.csv\nkickstarter/Kickstarter_2019-08-15T03_20_03_022Z/Kickstarter013.csv\nkickstarter/Kickstarter_2019-08-15T03_20_03_022Z/Kickstarter014.csv\nkickstarter/Kickstarter_2019-08-15T03_20_03_022Z/Kickstarter015.csv\nkickstarter/Kickstarter_2019-08-15T03_20_03_022Z/Kickstarter016.csv\nkickstarter/Kickstarter_2019-08-15T03_20_03_022Z/Kickstarter017.csv\nkickstarter/Kickstarter_2019-08-15T03_20_03_022Z/Kickstarter018.csv\nkickstarter/Kickstarter_2019-08-15T03_20_03_022Z/Kickstarter019.csv\nkickstarter/Kickstarter_2019-08-15T03_20_03_022Z/Kickstarter020.csv\nkickstarter/Kickstarter_2019-08-15T03_20_03_022Z/Kickstarter021.csv\nkickstarter/Kickstarter_2019-08-15T03_20_03_022Z/Kickstarter022.csv\nkickstarter/Kickstarter_2019-08-15T03_20_03_022Z/Kickstarter023.csv\nkickstarter/Kickstarter_2019-08-15T03_20_03_022Z/Kickstarter024.csv\nkickstarter/Kickstarter_2019-08-15T03_20_03_022Z/Kickstarter025.csv\nkickstarter/Kickstarter_2019-08-15T03_20_03_022Z/Kickstarter026.csv\nkickstarter/Kickstarter_2019-08-15T03_20_03_022Z/Kickstarter027.csv\nkickstarter/Kickstarter_2019-08-15T03_20_03_022Z/Kickstarter028.csv\nkickstarter/Kickstarter_2019-08-15T03_20_03_022Z/Kickstarter029.csv\nkickstarter/Kickstarter_2019-08-15T03_20_03_022Z/Kickstarter030.csv\nkickstarter/Kickstarter_2019-08-15T03_20_03_022Z/Kickstarter031.csv\nkickstarter/Kickstarter_2019-08-15T03_20_03_022Z/Kickstarter032.csv\nkickstarter/Kickstarter_2019-08-15T03_20_03_022Z/Kickstarter033.csv\nkickstarter/Kickstarter_2019-08-15T03_20_03_022Z/Kickstarter034.csv\nkickstarter/Kickstarter_2019-08-15T03_20_03_022Z/Kickstarter035.csv\nkickstarter/Kickstarter_2019-08-15T03_20_03_022Z/Kickstarter036.csv\nkickstarter/Kickstarter_2019-08-15T03_20_03_022Z/Kickstarter037.csv\nkickstarter/Kickstarter_2019-08-15T03_20_03_022Z/Kickstarter038.csv\nkickstarter/Kickstarter_2019-08-15T03_20_03_022Z/Kickstarter039.csv\nkickstarter/Kickstarter_2019-08-15T03_20_03_022Z/Kickstarter040.csv\nkickstarter/Kickstarter_2019-08-15T03_20_03_022Z/Kickstarter041.csv\nkickstarter/Kickstarter_2019-08-15T03_20_03_022Z/Kickstarter042.csv\nkickstarter/Kickstarter_2019-08-15T03_20_03_022Z/Kickstarter043.csv\nkickstarter/Kickstarter_2019-08-15T03_20_03_022Z/Kickstarter044.csv\nkickstarter/Kickstarter_2019-08-15T03_20_03_022Z/Kickstarter045.csv\nkickstarter/Kickstarter_2019-08-15T03_20_03_022Z/Kickstarter046.csv\nkickstarter/Kickstarter_2019-08-15T03_20_03_022Z/Kickstarter047.csv\nkickstarter/Kickstarter_2019-08-15T03_20_03_022Z/Kickstarter048.csv\nkickstarter/Kickstarter_2019-08-15T03_20_03_022Z/Kickstarter049.csv\nkickstarter/Kickstarter_2019-08-15T03_20_03_022Z/Kickstarter050.csv\nkickstarter/Kickstarter_2019-08-15T03_20_03_022Z/Kickstarter051.csv\nkickstarter/Kickstarter_2019-08-15T03_20_03_022Z/Kickstarter052.csv\nkickstarter/Kickstarter_2019-08-15T03_20_03_022Z/Kickstarter053.csv\nkickstarter/Kickstarter_2019-08-15T03_20_03_022Z/Kickstarter054.csv\nkickstarter/Kickstarter_2019-08-15T03_20_03_022Z/Kickstarter055.csv\nkickstarter/Kickstarter_2019-09-12T03_20_06_215Z/Kickstarter.csv\nkickstarter/Kickstarter_2019-09-12T03_20_06_215Z/Kickstarter001.csv\nkickstarter/Kickstarter_2019-09-12T03_20_06_215Z/Kickstarter002.csv\nkickstarter/Kickstarter_2019-09-12T03_20_06_215Z/Kickstarter003.csv\nkickstarter/Kickstarter_2019-09-12T03_20_06_215Z/Kickstarter004.csv\nkickstarter/Kickstarter_2019-09-12T03_20_06_215Z/Kickstarter005.csv\nkickstarter/Kickstarter_2019-09-12T03_20_06_215Z/Kickstarter006.csv\nkickstarter/Kickstarter_2019-09-12T03_20_06_215Z/Kickstarter007.csv\nkickstarter/Kickstarter_2019-09-12T03_20_06_215Z/Kickstarter008.csv\nkickstarter/Kickstarter_2019-09-12T03_20_06_215Z/Kickstarter009.csv\nkickstarter/Kickstarter_2019-09-12T03_20_06_215Z/Kickstarter010.csv\nkickstarter/Kickstarter_2019-09-12T03_20_06_215Z/Kickstarter011.csv\nkickstarter/Kickstarter_2019-09-12T03_20_06_215Z/Kickstarter012.csv\nkickstarter/Kickstarter_2019-09-12T03_20_06_215Z/Kickstarter013.csv\nkickstarter/Kickstarter_2019-09-12T03_20_06_215Z/Kickstarter014.csv\nkickstarter/Kickstarter_2019-09-12T03_20_06_215Z/Kickstarter015.csv\nkickstarter/Kickstarter_2019-09-12T03_20_06_215Z/Kickstarter016.csv\nkickstarter/Kickstarter_2019-09-12T03_20_06_215Z/Kickstarter017.csv\nkickstarter/Kickstarter_2019-09-12T03_20_06_215Z/Kickstarter018.csv\nkickstarter/Kickstarter_2019-09-12T03_20_06_215Z/Kickstarter019.csv\nkickstarter/Kickstarter_2019-09-12T03_20_06_215Z/Kickstarter020.csv\nkickstarter/Kickstarter_2019-09-12T03_20_06_215Z/Kickstarter021.csv\nkickstarter/Kickstarter_2019-09-12T03_20_06_215Z/Kickstarter022.csv\nkickstarter/Kickstarter_2019-09-12T03_20_06_215Z/Kickstarter023.csv\nkickstarter/Kickstarter_2019-09-12T03_20_06_215Z/Kickstarter024.csv\nkickstarter/Kickstarter_2019-09-12T03_20_06_215Z/Kickstarter025.csv\nkickstarter/Kickstarter_2019-09-12T03_20_06_215Z/Kickstarter026.csv\nkickstarter/Kickstarter_2019-09-12T03_20_06_215Z/Kickstarter027.csv\nkickstarter/Kickstarter_2019-09-12T03_20_06_215Z/Kickstarter028.csv\nkickstarter/Kickstarter_2019-09-12T03_20_06_215Z/Kickstarter029.csv\nkickstarter/Kickstarter_2019-09-12T03_20_06_215Z/Kickstarter030.csv\nkickstarter/Kickstarter_2019-09-12T03_20_06_215Z/Kickstarter031.csv\nkickstarter/Kickstarter_2019-09-12T03_20_06_215Z/Kickstarter032.csv\nkickstarter/Kickstarter_2019-09-12T03_20_06_215Z/Kickstarter033.csv\nkickstarter/Kickstarter_2019-09-12T03_20_06_215Z/Kickstarter034.csv\nkickstarter/Kickstarter_2019-09-12T03_20_06_215Z/Kickstarter035.csv\nkickstarter/Kickstarter_2019-09-12T03_20_06_215Z/Kickstarter036.csv\nkickstarter/Kickstarter_2019-09-12T03_20_06_215Z/Kickstarter037.csv\nkickstarter/Kickstarter_2019-09-12T03_20_06_215Z/Kickstarter038.csv\nkickstarter/Kickstarter_2019-09-12T03_20_06_215Z/Kickstarter039.csv\nkickstarter/Kickstarter_2019-09-12T03_20_06_215Z/Kickstarter040.csv\nkickstarter/Kickstarter_2019-09-12T03_20_06_215Z/Kickstarter041.csv\nkickstarter/Kickstarter_2019-09-12T03_20_06_215Z/Kickstarter042.csv\nkickstarter/Kickstarter_2019-09-12T03_20_06_215Z/Kickstarter043.csv\nkickstarter/Kickstarter_2019-09-12T03_20_06_215Z/Kickstarter044.csv\nkickstarter/Kickstarter_2019-09-12T03_20_06_215Z/Kickstarter045.csv\nkickstarter/Kickstarter_2019-09-12T03_20_06_215Z/Kickstarter046.csv\nkickstarter/Kickstarter_2019-09-12T03_20_06_215Z/Kickstarter047.csv\nkickstarter/Kickstarter_2019-09-12T03_20_06_215Z/Kickstarter048.csv\nkickstarter/Kickstarter_2019-09-12T03_20_06_215Z/Kickstarter049.csv\nkickstarter/Kickstarter_2019-09-12T03_20_06_215Z/Kickstarter050.csv\nkickstarter/Kickstarter_2019-09-12T03_20_06_215Z/Kickstarter051.csv\nkickstarter/Kickstarter_2019-09-12T03_20_06_215Z/Kickstarter052.csv\nkickstarter/Kickstarter_2019-09-12T03_20_06_215Z/Kickstarter053.csv\nkickstarter/Kickstarter_2019-09-12T03_20_06_215Z/Kickstarter054.csv\nkickstarter/Kickstarter_2019-09-12T03_20_06_215Z/Kickstarter055.csv\nkickstarter/Kickstarter_2019-09-12T03_20_06_215Z/Kickstarter056.csv\nkickstarter/Kickstarter_2019-09-12T03_20_06_215Z/Kickstarter057.csv\nkickstarter/Kickstarter_2019-10-17T03_20_19_421Z/Kickstarter.csv\nkickstarter/Kickstarter_2019-10-17T03_20_19_421Z/Kickstarter001.csv\nkickstarter/Kickstarter_2019-10-17T03_20_19_421Z/Kickstarter002.csv\nkickstarter/Kickstarter_2019-10-17T03_20_19_421Z/Kickstarter003.csv\nkickstarter/Kickstarter_2019-10-17T03_20_19_421Z/Kickstarter004.csv\nkickstarter/Kickstarter_2019-10-17T03_20_19_421Z/Kickstarter005.csv\nkickstarter/Kickstarter_2019-10-17T03_20_19_421Z/Kickstarter006.csv\nkickstarter/Kickstarter_2019-10-17T03_20_19_421Z/Kickstarter007.csv\nkickstarter/Kickstarter_2019-10-17T03_20_19_421Z/Kickstarter008.csv\nkickstarter/Kickstarter_2019-10-17T03_20_19_421Z/Kickstarter009.csv\nkickstarter/Kickstarter_2019-10-17T03_20_19_421Z/Kickstarter010.csv\nkickstarter/Kickstarter_2019-10-17T03_20_19_421Z/Kickstarter011.csv\nkickstarter/Kickstarter_2019-10-17T03_20_19_421Z/Kickstarter012.csv\nkickstarter/Kickstarter_2019-10-17T03_20_19_421Z/Kickstarter013.csv\nkickstarter/Kickstarter_2019-10-17T03_20_19_421Z/Kickstarter014.csv\nkickstarter/Kickstarter_2019-10-17T03_20_19_421Z/Kickstarter015.csv\nkickstarter/Kickstarter_2019-10-17T03_20_19_421Z/Kickstarter016.csv\nkickstarter/Kickstarter_2019-10-17T03_20_19_421Z/Kickstarter017.csv\nkickstarter/Kickstarter_2019-10-17T03_20_19_421Z/Kickstarter018.csv\nkickstarter/Kickstarter_2019-10-17T03_20_19_421Z/Kickstarter019.csv\nkickstarter/Kickstarter_2019-10-17T03_20_19_421Z/Kickstarter020.csv\nkickstarter/Kickstarter_2019-10-17T03_20_19_421Z/Kickstarter021.csv\nkickstarter/Kickstarter_2019-10-17T03_20_19_421Z/Kickstarter022.csv\nkickstarter/Kickstarter_2019-10-17T03_20_19_421Z/Kickstarter023.csv\nkickstarter/Kickstarter_2019-10-17T03_20_19_421Z/Kickstarter024.csv\nkickstarter/Kickstarter_2019-10-17T03_20_19_421Z/Kickstarter025.csv\nkickstarter/Kickstarter_2019-10-17T03_20_19_421Z/Kickstarter026.csv\nkickstarter/Kickstarter_2019-10-17T03_20_19_421Z/Kickstarter027.csv\nkickstarter/Kickstarter_2019-10-17T03_20_19_421Z/Kickstarter028.csv\nkickstarter/Kickstarter_2019-10-17T03_20_19_421Z/Kickstarter029.csv\nkickstarter/Kickstarter_2019-10-17T03_20_19_421Z/Kickstarter030.csv\nkickstarter/Kickstarter_2019-10-17T03_20_19_421Z/Kickstarter031.csv\nkickstarter/Kickstarter_2019-10-17T03_20_19_421Z/Kickstarter032.csv\nkickstarter/Kickstarter_2019-10-17T03_20_19_421Z/Kickstarter033.csv\nkickstarter/Kickstarter_2019-10-17T03_20_19_421Z/Kickstarter034.csv\nkickstarter/Kickstarter_2019-10-17T03_20_19_421Z/Kickstarter035.csv\nkickstarter/Kickstarter_2019-10-17T03_20_19_421Z/Kickstarter036.csv\nkickstarter/Kickstarter_2019-10-17T03_20_19_421Z/Kickstarter037.csv\nkickstarter/Kickstarter_2019-10-17T03_20_19_421Z/Kickstarter038.csv\nkickstarter/Kickstarter_2019-10-17T03_20_19_421Z/Kickstarter039.csv\nkickstarter/Kickstarter_2019-10-17T03_20_19_421Z/Kickstarter040.csv\nkickstarter/Kickstarter_2019-10-17T03_20_19_421Z/Kickstarter041.csv\nkickstarter/Kickstarter_2019-10-17T03_20_19_421Z/Kickstarter042.csv\nkickstarter/Kickstarter_2019-10-17T03_20_19_421Z/Kickstarter043.csv\nkickstarter/Kickstarter_2019-10-17T03_20_19_421Z/Kickstarter044.csv\nkickstarter/Kickstarter_2019-10-17T03_20_19_421Z/Kickstarter045.csv\nkickstarter/Kickstarter_2019-10-17T03_20_19_421Z/Kickstarter046.csv\nkickstarter/Kickstarter_2019-10-17T03_20_19_421Z/Kickstarter047.csv\nkickstarter/Kickstarter_2019-10-17T03_20_19_421Z/Kickstarter048.csv\nkickstarter/Kickstarter_2019-10-17T03_20_19_421Z/Kickstarter049.csv\nkickstarter/Kickstarter_2019-10-17T03_20_19_421Z/Kickstarter050.csv\nkickstarter/Kickstarter_2019-10-17T03_20_19_421Z/Kickstarter051.csv\nkickstarter/Kickstarter_2019-10-17T03_20_19_421Z/Kickstarter052.csv\nkickstarter/Kickstarter_2019-10-17T03_20_19_421Z/Kickstarter053.csv\nkickstarter/Kickstarter_2019-10-17T03_20_19_421Z/Kickstarter054.csv\nkickstarter/Kickstarter_2019-10-17T03_20_19_421Z/Kickstarter055.csv\nkickstarter/Kickstarter_2019-11-14T03_20_27_004Z/Kickstarter.csv\nkickstarter/Kickstarter_2019-11-14T03_20_27_004Z/Kickstarter001.csv\nkickstarter/Kickstarter_2019-11-14T03_20_27_004Z/Kickstarter002.csv\nkickstarter/Kickstarter_2019-11-14T03_20_27_004Z/Kickstarter003.csv\nkickstarter/Kickstarter_2019-11-14T03_20_27_004Z/Kickstarter004.csv\nkickstarter/Kickstarter_2019-11-14T03_20_27_004Z/Kickstarter005.csv\nkickstarter/Kickstarter_2019-11-14T03_20_27_004Z/Kickstarter006.csv\nkickstarter/Kickstarter_2019-11-14T03_20_27_004Z/Kickstarter007.csv\nkickstarter/Kickstarter_2019-11-14T03_20_27_004Z/Kickstarter008.csv\nkickstarter/Kickstarter_2019-11-14T03_20_27_004Z/Kickstarter009.csv\nkickstarter/Kickstarter_2019-11-14T03_20_27_004Z/Kickstarter010.csv\nkickstarter/Kickstarter_2019-11-14T03_20_27_004Z/Kickstarter011.csv\nkickstarter/Kickstarter_2019-11-14T03_20_27_004Z/Kickstarter012.csv\nkickstarter/Kickstarter_2019-11-14T03_20_27_004Z/Kickstarter013.csv\nkickstarter/Kickstarter_2019-11-14T03_20_27_004Z/Kickstarter014.csv\nkickstarter/Kickstarter_2019-11-14T03_20_27_004Z/Kickstarter015.csv\nkickstarter/Kickstarter_2019-11-14T03_20_27_004Z/Kickstarter016.csv\nkickstarter/Kickstarter_2019-11-14T03_20_27_004Z/Kickstarter017.csv\nkickstarter/Kickstarter_2019-11-14T03_20_27_004Z/Kickstarter018.csv\nkickstarter/Kickstarter_2019-11-14T03_20_27_004Z/Kickstarter019.csv\nkickstarter/Kickstarter_2019-11-14T03_20_27_004Z/Kickstarter020.csv\nkickstarter/Kickstarter_2019-11-14T03_20_27_004Z/Kickstarter021.csv\nkickstarter/Kickstarter_2019-11-14T03_20_27_004Z/Kickstarter022.csv\nkickstarter/Kickstarter_2019-11-14T03_20_27_004Z/Kickstarter023.csv\nkickstarter/Kickstarter_2019-11-14T03_20_27_004Z/Kickstarter024.csv\nkickstarter/Kickstarter_2019-11-14T03_20_27_004Z/Kickstarter025.csv\nkickstarter/Kickstarter_2019-11-14T03_20_27_004Z/Kickstarter026.csv\nkickstarter/Kickstarter_2019-11-14T03_20_27_004Z/Kickstarter027.csv\nkickstarter/Kickstarter_2019-11-14T03_20_27_004Z/Kickstarter028.csv\nkickstarter/Kickstarter_2019-11-14T03_20_27_004Z/Kickstarter029.csv\nkickstarter/Kickstarter_2019-11-14T03_20_27_004Z/Kickstarter030.csv\nkickstarter/Kickstarter_2019-11-14T03_20_27_004Z/Kickstarter031.csv\nkickstarter/Kickstarter_2019-11-14T03_20_27_004Z/Kickstarter032.csv\nkickstarter/Kickstarter_2019-11-14T03_20_27_004Z/Kickstarter033.csv\nkickstarter/Kickstarter_2019-11-14T03_20_27_004Z/Kickstarter034.csv\nkickstarter/Kickstarter_2019-11-14T03_20_27_004Z/Kickstarter035.csv\nkickstarter/Kickstarter_2019-11-14T03_20_27_004Z/Kickstarter036.csv\nkickstarter/Kickstarter_2019-11-14T03_20_27_004Z/Kickstarter037.csv\nkickstarter/Kickstarter_2019-11-14T03_20_27_004Z/Kickstarter038.csv\nkickstarter/Kickstarter_2019-11-14T03_20_27_004Z/Kickstarter039.csv\nkickstarter/Kickstarter_2019-11-14T03_20_27_004Z/Kickstarter040.csv\nkickstarter/Kickstarter_2019-11-14T03_20_27_004Z/Kickstarter041.csv\nkickstarter/Kickstarter_2019-11-14T03_20_27_004Z/Kickstarter042.csv\nkickstarter/Kickstarter_2019-11-14T03_20_27_004Z/Kickstarter043.csv\nkickstarter/Kickstarter_2019-11-14T03_20_27_004Z/Kickstarter044.csv\nkickstarter/Kickstarter_2019-11-14T03_20_27_004Z/Kickstarter045.csv\nkickstarter/Kickstarter_2019-11-14T03_20_27_004Z/Kickstarter046.csv\nkickstarter/Kickstarter_2019-11-14T03_20_27_004Z/Kickstarter047.csv\nkickstarter/Kickstarter_2019-11-14T03_20_27_004Z/Kickstarter048.csv\nkickstarter/Kickstarter_2019-11-14T03_20_27_004Z/Kickstarter049.csv\nkickstarter/Kickstarter_2019-11-14T03_20_27_004Z/Kickstarter050.csv\nkickstarter/Kickstarter_2019-11-14T03_20_27_004Z/Kickstarter051.csv\nkickstarter/Kickstarter_2019-11-14T03_20_27_004Z/Kickstarter052.csv\nkickstarter/Kickstarter_2019-11-14T03_20_27_004Z/Kickstarter053.csv\nkickstarter/Kickstarter_2019-11-14T03_20_27_004Z/Kickstarter054.csv\nkickstarter/Kickstarter_2019-11-14T03_20_27_004Z/Kickstarter055.csv\nkickstarter/Kickstarter_2019-11-14T03_20_27_004Z/Kickstarter056.csv\nkickstarter/Kickstarter_2019-12-12T03_20_05_306Z/Kickstarter.csv\nkickstarter/Kickstarter_2019-12-12T03_20_05_306Z/Kickstarter001.csv\nkickstarter/Kickstarter_2019-12-12T03_20_05_306Z/Kickstarter002.csv\nkickstarter/Kickstarter_2019-12-12T03_20_05_306Z/Kickstarter003.csv\nkickstarter/Kickstarter_2019-12-12T03_20_05_306Z/Kickstarter004.csv\nkickstarter/Kickstarter_2019-12-12T03_20_05_306Z/Kickstarter005.csv\nkickstarter/Kickstarter_2019-12-12T03_20_05_306Z/Kickstarter006.csv\nkickstarter/Kickstarter_2019-12-12T03_20_05_306Z/Kickstarter007.csv\nkickstarter/Kickstarter_2019-12-12T03_20_05_306Z/Kickstarter008.csv\nkickstarter/Kickstarter_2019-12-12T03_20_05_306Z/Kickstarter009.csv\nkickstarter/Kickstarter_2019-12-12T03_20_05_306Z/Kickstarter010.csv\nkickstarter/Kickstarter_2019-12-12T03_20_05_306Z/Kickstarter011.csv\nkickstarter/Kickstarter_2019-12-12T03_20_05_306Z/Kickstarter012.csv\nkickstarter/Kickstarter_2019-12-12T03_20_05_306Z/Kickstarter013.csv\nkickstarter/Kickstarter_2019-12-12T03_20_05_306Z/Kickstarter014.csv\nkickstarter/Kickstarter_2019-12-12T03_20_05_306Z/Kickstarter015.csv\nkickstarter/Kickstarter_2019-12-12T03_20_05_306Z/Kickstarter016.csv\nkickstarter/Kickstarter_2019-12-12T03_20_05_306Z/Kickstarter017.csv\nkickstarter/Kickstarter_2019-12-12T03_20_05_306Z/Kickstarter018.csv\nkickstarter/Kickstarter_2019-12-12T03_20_05_306Z/Kickstarter019.csv\nkickstarter/Kickstarter_2019-12-12T03_20_05_306Z/Kickstarter020.csv\nkickstarter/Kickstarter_2019-12-12T03_20_05_306Z/Kickstarter021.csv\nkickstarter/Kickstarter_2019-12-12T03_20_05_306Z/Kickstarter022.csv\nkickstarter/Kickstarter_2019-12-12T03_20_05_306Z/Kickstarter023.csv\nkickstarter/Kickstarter_2019-12-12T03_20_05_306Z/Kickstarter024.csv\nkickstarter/Kickstarter_2019-12-12T03_20_05_306Z/Kickstarter025.csv\nkickstarter/Kickstarter_2019-12-12T03_20_05_306Z/Kickstarter026.csv\nkickstarter/Kickstarter_2019-12-12T03_20_05_306Z/Kickstarter027.csv\nkickstarter/Kickstarter_2019-12-12T03_20_05_306Z/Kickstarter028.csv\nkickstarter/Kickstarter_2019-12-12T03_20_05_306Z/Kickstarter029.csv\nkickstarter/Kickstarter_2019-12-12T03_20_05_306Z/Kickstarter030.csv\nkickstarter/Kickstarter_2019-12-12T03_20_05_306Z/Kickstarter031.csv\nkickstarter/Kickstarter_2019-12-12T03_20_05_306Z/Kickstarter032.csv\nkickstarter/Kickstarter_2019-12-12T03_20_05_306Z/Kickstarter033.csv\nkickstarter/Kickstarter_2019-12-12T03_20_05_306Z/Kickstarter034.csv\nkickstarter/Kickstarter_2019-12-12T03_20_05_306Z/Kickstarter035.csv\nkickstarter/Kickstarter_2019-12-12T03_20_05_306Z/Kickstarter036.csv\nkickstarter/Kickstarter_2019-12-12T03_20_05_306Z/Kickstarter037.csv\nkickstarter/Kickstarter_2019-12-12T03_20_05_306Z/Kickstarter038.csv\nkickstarter/Kickstarter_2019-12-12T03_20_05_306Z/Kickstarter039.csv\nkickstarter/Kickstarter_2019-12-12T03_20_05_306Z/Kickstarter040.csv\nkickstarter/Kickstarter_2019-12-12T03_20_05_306Z/Kickstarter041.csv\nkickstarter/Kickstarter_2019-12-12T03_20_05_306Z/Kickstarter042.csv\nkickstarter/Kickstarter_2019-12-12T03_20_05_306Z/Kickstarter043.csv\nkickstarter/Kickstarter_2019-12-12T03_20_05_306Z/Kickstarter044.csv\nkickstarter/Kickstarter_2019-12-12T03_20_05_306Z/Kickstarter045.csv\nkickstarter/Kickstarter_2019-12-12T03_20_05_306Z/Kickstarter046.csv\nkickstarter/Kickstarter_2019-12-12T03_20_05_306Z/Kickstarter047.csv\nkickstarter/Kickstarter_2019-12-12T03_20_05_306Z/Kickstarter048.csv\nkickstarter/Kickstarter_2019-12-12T03_20_05_306Z/Kickstarter049.csv\nkickstarter/Kickstarter_2019-12-12T03_20_05_306Z/Kickstarter050.csv\nkickstarter/Kickstarter_2019-12-12T03_20_05_306Z/Kickstarter051.csv\nkickstarter/Kickstarter_2019-12-12T03_20_05_306Z/Kickstarter052.csv\nkickstarter/Kickstarter_2019-12-12T03_20_05_306Z/Kickstarter053.csv\nkickstarter/Kickstarter_2019-12-12T03_20_05_306Z/Kickstarter054.csv\nkickstarter/Kickstarter_2019-12-12T03_20_05_306Z/Kickstarter055.csv\nkickstarter/Kickstarter_2019-12-12T03_20_05_306Z/Kickstarter056.csv\nkickstarter/Kickstarter_2019-12-12T03_20_05_306Z/Kickstarter057.csv\n"
    }
   ],
   "source": [
    "for monthly_directory in os.listdir(source_directory):\n",
    "    extract_date = re.findall(r\"\\d\\s*\\d\\s*\\d\\s*\\d-\\d\\s*\\d\\s*-\\d\\s*\\d\\s*\", monthly_directory)[0]\n",
    "    input_files = os.listdir(f\"{source_directory}/{monthly_directory}\")\n",
    "\n",
    "    for file in input_files:\n",
    "        input_file = f\"{source_directory}/{monthly_directory}/{file}\"\n",
    "        dw.ks_merge_files_fixed_date(input_file, output_file, extract_date,\"2019-01-01\",\"2019-12-12\")\n",
    "        print(input_file)"
   ]
  },
  {
   "cell_type": "markdown",
   "metadata": {},
   "source": [
    "## Create new dataset with only 1 row per project\n",
    "* Apply function etl.data_wrangling.kickstarter_fixed_date to keep most recent row for each project\n",
    "* Group states\n",
    "* Save file "
   ]
  },
  {
   "cell_type": "markdown",
   "metadata": {},
   "source": [
    "#### Set input and output parameters"
   ]
  },
  {
   "cell_type": "code",
   "execution_count": 2,
   "metadata": {},
   "outputs": [],
   "source": [
    "input_file = \"data/Kickstarter_fixed_date_2019.pkl\"\n",
    "output_file = \"data/Kickstarter_2019.pkl\""
   ]
  },
  {
   "cell_type": "markdown",
   "metadata": {},
   "source": [
    "#### Apply function"
   ]
  },
  {
   "cell_type": "code",
   "execution_count": 3,
   "metadata": {},
   "outputs": [],
   "source": [
    "dw.kickstarter_fixed_dates(input_file, output_file)"
   ]
  },
  {
   "cell_type": "code",
   "execution_count": null,
   "metadata": {},
   "outputs": [],
   "source": []
  }
 ],
 "metadata": {
  "file_extension": ".py",
  "kernelspec": {
   "display_name": "Python 3.7.6 64-bit ('code_red': conda)",
   "language": "python",
   "name": "python37664bitcoderedconda693c8a623b8d44c8a58a234a9205c665"
  },
  "language_info": {
   "codemirror_mode": {
    "name": "ipython",
    "version": 3
   },
   "file_extension": ".py",
   "mimetype": "text/x-python",
   "name": "python",
   "nbconvert_exporter": "python",
   "pygments_lexer": "ipython3",
   "version": "3.6.10-final"
  },
  "mimetype": "text/x-python",
  "name": "python",
  "npconvert_exporter": "python",
  "pygments_lexer": "ipython3",
  "version": 3
 },
 "nbformat": 4,
 "nbformat_minor": 2
}