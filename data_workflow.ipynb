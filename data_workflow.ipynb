{
 "nbformat": 4,
 "nbformat_minor": 2,
 "metadata": {
  "language_info": {
   "name": "python",
   "codemirror_mode": {
    "name": "ipython",
    "version": 3
   },
   "version": "3.7.6-final"
  },
  "orig_nbformat": 2,
  "file_extension": ".py",
  "mimetype": "text/x-python",
  "name": "python",
  "npconvert_exporter": "python",
  "pygments_lexer": "ipython3",
  "version": 3,
  "kernelspec": {
   "name": "python37664bitcoderedconda693c8a623b8d44c8a58a234a9205c665",
   "display_name": "Python 3.7.6 64-bit ('code_red': conda)"
  }
 },
 "cells": [
  {
   "cell_type": "code",
   "execution_count": 1,
   "metadata": {},
   "outputs": [],
   "source": [
    "import os\n",
    "from etl import data_wrangling as dw"
   ]
  },
  {
   "cell_type": "code",
   "execution_count": 2,
   "metadata": {},
   "outputs": [],
   "source": [
    "data_directory = \"kickstarter\"\n",
    "output_file = \"data/Kickstarter.pkl\""
   ]
  },
  {
   "cell_type": "code",
   "execution_count": 3,
   "metadata": {},
   "outputs": [],
   "source": [
    "for monthly_directory in os.listdir(data_directory):\n",
    "    input_files = os.listdir(f\"{data_directory}/{monthly_directory}\")\n",
    "\n",
    "    for file in input_files:\n",
    "        dw.ks_merge_files(f\"{data_directory}/{monthly_directory}/{file}\", output_file)"
   ]
  }
 ]
}