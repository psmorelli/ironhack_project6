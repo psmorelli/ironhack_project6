{
 "cells": [
  {
   "cell_type": "markdown",
   "metadata": {},
   "source": [
    "## Data Wrangling Process\n",
    "### Steps to create dataset for analysis"
   ]
  },
  {
   "cell_type": "markdown",
   "metadata": {},
   "source": [
    "### Import libraries"
   ]
  },
  {
   "cell_type": "code",
   "execution_count": 1,
   "metadata": {},
   "outputs": [],
   "source": [
    "import os\n",
    "import re\n",
    "from utils import data_wrangling as dw\n",
    "import pandas as pd"
   ]
  },
  {
   "cell_type": "markdown",
   "metadata": {},
   "source": [
    "### Set source folder and output file\n",
    "* source folder contain all extrations of kickstarter.com on 2019 executed by webrobots.io trough scraping and shared by partitioned CSV files. "
   ]
  },
  {
   "cell_type": "code",
   "execution_count": 18,
   "metadata": {},
   "outputs": [],
   "source": [
    "extration_parameter = {\"2016\": {\"input_folder\"  :   \"data/extracted/2016/\",\n",
    "                                \"start_date\"    :   \"2016-01-01\",\n",
    "                                \"end_date\"      :   \"2016-12-31\",\n",
    "                                \"deadline\"      :   \"2019-12-12\",\n",
    "                                \"output_file\"   :   \"data/transformed/Kickstarter_fixed_date_2016.pkl\"},\n",
    "                        \"2017\": {\"input_folder\" :   \"data/extracted/2017/\",\n",
    "                                \"start_date\"    :   \"2017-01-01\",\n",
    "                                \"end_date\"      :   \"2017-12-31\",\n",
    "                                \"deadline\"      :   \"2019-12-12\",\n",
    "                                \"output_file\"   :   \"data/transformed/Kickstarter_fixed_date_2017.pkl\"},\n",
    "                        \"2018\": {\"input_folder\" :   \"data/extracted/2018/\",\n",
    "                                \"start_date\"    :   \"2018-01-01\",\n",
    "                                \"end_date\"      :   \"2018-12-31\",\n",
    "                                \"deadline\"      :   \"2019-12-12\",\n",
    "                                \"output_file\"   :   \"data/transformed/Kickstarter_fixed_date_2018.pkl\"},\n",
    "                        \"2019\": {\"input_folder\" :   \"data/extracted/2019/\",\n",
    "                                \"start_date\"    :   \"2019-01-01\",\n",
    "                                \"end_date\"      :   \"2019-12-31\",\n",
    "                                \"deadline\"      :   \"2019-12-12\",\n",
    "                                \"output_file\"   :   \"data/transformed/Kickstarter_fixed_date_2019.pkl\"}                                \n",
    "                                }\n"
   ]
  },
  {
   "cell_type": "markdown",
   "metadata": {},
   "source": [
    "### Extract, transform and save new file merged\n",
    "* Iteract trough all directories and files and apply function etl.data_wrangling.merge_files_fixed_date to extract relevant data, transform/clean columns and save new file merge_files_fixed_date"
   ]
  },
  {
   "cell_type": "code",
   "execution_count": 14,
   "metadata": {},
   "outputs": [
    {
     "data": {
      "text/plain": "'data/extracted/2016/'"
     },
     "execution_count": 14,
     "metadata": {},
     "output_type": "execute_result"
    }
   ],
   "source": [
    "extration_parameter[\"2016\"][\"input_folder\"]"
   ]
  },
  {
   "cell_type": "code",
   "execution_count": 22,
   "metadata": {},
   "outputs": [
    {
     "name": "stdout",
     "output_type": "stream",
     "text": "{'input_folder': 'data/extracted/2016/', 'start_date': '2016-01-01', 'end_date': '2016-12-31', 'deadline': '2019-12-12', 'output_file': 'data/transformed/Kickstarter_fixed_date_2016.pkl'}\n{'input_folder': 'data/extracted/2017/', 'start_date': '2017-01-01', 'end_date': '2017-12-31', 'deadline': '2019-12-12', 'output_file': 'data/transformed/Kickstarter_fixed_date_2017.pkl'}\n{'input_folder': 'data/extracted/2018/', 'start_date': '2018-01-01', 'end_date': '2018-12-31', 'deadline': '2019-12-12', 'output_file': 'data/transformed/Kickstarter_fixed_date_2018.pkl'}\n{'input_folder': 'data/extracted/2019/', 'start_date': '2019-01-01', 'end_date': '2019-12-31', 'deadline': '2019-12-12', 'output_file': 'data/transformed/Kickstarter_fixed_date_2019.pkl'}\n"
    }
   ],
   "source": [
    "for year in extration_parameter:\n",
    "    print(extration_parameter[year])"
   ]
  },
  {
   "cell_type": "code",
   "execution_count": 13,
   "metadata": {},
   "outputs": [
    {
     "name": "stdout",
     "output_type": "stream",
     "text": "80Z/Kickstarter035.csv\nkickstarter/Kickstarter_2018-10-18T03_20_48_880Z/Kickstarter036.csv\nkickstarter/Kickstarter_2018-10-18T03_20_48_880Z/Kickstarter037.csv\nkickstarter/Kickstarter_2018-10-18T03_20_48_880Z/Kickstarter038.csv\nkickstarter/Kickstarter_2018-10-18T03_20_48_880Z/Kickstarter039.csv\nkickstarter/Kickstarter_2018-10-18T03_20_48_880Z/Kickstarter040.csv\nkickstarter/Kickstarter_2018-10-18T03_20_48_880Z/Kickstarter041.csv\nkickstarter/Kickstarter_2018-10-18T03_20_48_880Z/Kickstarter042.csv\nkickstarter/Kickstarter_2018-10-18T03_20_48_880Z/Kickstarter043.csv\nkickstarter/Kickstarter_2018-10-18T03_20_48_880Z/Kickstarter044.csv\nkickstarter/Kickstarter_2018-10-18T03_20_48_880Z/Kickstarter045.csv\nkickstarter/Kickstarter_2018-10-18T03_20_48_880Z/Kickstarter046.csv\nkickstarter/Kickstarter_2018-10-18T03_20_48_880Z/Kickstarter047.csv\nkickstarter/Kickstarter_2018-10-18T03_20_48_880Z/Kickstarter048.csv\nkickstarter/Kickstarter_2018-10-18T03_20_48_880Z/Kickstarter049.csv\nkickstarter/Kickstarter_2018-10-18T03_20_48_880Z/Kickstarter050.csv\nkickstarter/Kickstarter_2018-10-18T03_20_48_880Z/Kickstarter051.csv\nkickstarter/Kickstarter_2018-10-18T03_20_48_880Z/Kickstarter052.csv\nkickstarter/Kickstarter_2018-10-18T03_20_48_880Z/Kickstarter053.csv\nkickstarter/Kickstarter_2018-11-15T03_20_50_568Z/Kickstarter.csv\nkickstarter/Kickstarter_2018-11-15T03_20_50_568Z/Kickstarter001.csv\nkickstarter/Kickstarter_2018-11-15T03_20_50_568Z/Kickstarter002.csv\nkickstarter/Kickstarter_2018-11-15T03_20_50_568Z/Kickstarter003.csv\nkickstarter/Kickstarter_2018-11-15T03_20_50_568Z/Kickstarter004.csv\nkickstarter/Kickstarter_2018-11-15T03_20_50_568Z/Kickstarter005.csv\nkickstarter/Kickstarter_2018-11-15T03_20_50_568Z/Kickstarter006.csv\nkickstarter/Kickstarter_2018-11-15T03_20_50_568Z/Kickstarter007.csv\nkickstarter/Kickstarter_2018-11-15T03_20_50_568Z/Kickstarter008.csv\nkickstarter/Kickstarter_2018-11-15T03_20_50_568Z/Kickstarter009.csv\nkickstarter/Kickstarter_2018-11-15T03_20_50_568Z/Kickstarter010.csv\nkickstarter/Kickstarter_2018-11-15T03_20_50_568Z/Kickstarter011.csv\nkickstarter/Kickstarter_2018-11-15T03_20_50_568Z/Kickstarter012.csv\nkickstarter/Kickstarter_2018-11-15T03_20_50_568Z/Kickstarter013.csv\nkickstarter/Kickstarter_2018-11-15T03_20_50_568Z/Kickstarter014.csv\nkickstarter/Kickstarter_2018-11-15T03_20_50_568Z/Kickstarter015.csv\nkickstarter/Kickstarter_2018-11-15T03_20_50_568Z/Kickstarter016.csv\nkickstarter/Kickstarter_2018-11-15T03_20_50_568Z/Kickstarter017.csv\nkickstarter/Kickstarter_2018-11-15T03_20_50_568Z/Kickstarter018.csv\nkickstarter/Kickstarter_2018-11-15T03_20_50_568Z/Kickstarter019.csv\nkickstarter/Kickstarter_2018-11-15T03_20_50_568Z/Kickstarter020.csv\nkickstarter/Kickstarter_2018-11-15T03_20_50_568Z/Kickstarter021.csv\nkickstarter/Kickstarter_2018-11-15T03_20_50_568Z/Kickstarter022.csv\nkickstarter/Kickstarter_2018-11-15T03_20_50_568Z/Kickstarter023.csv\nkickstarter/Kickstarter_2018-11-15T03_20_50_568Z/Kickstarter024.csv\nkickstarter/Kickstarter_2018-11-15T03_20_50_568Z/Kickstarter025.csv\nkickstarter/Kickstarter_2018-11-15T03_20_50_568Z/Kickstarter026.csv\nkickstarter/Kickstarter_2018-11-15T03_20_50_568Z/Kickstarter027.csv\nkickstarter/Kickstarter_2018-11-15T03_20_50_568Z/Kickstarter028.csv\nkickstarter/Kickstarter_2018-11-15T03_20_50_568Z/Kickstarter029.csv\nkickstarter/Kickstarter_2018-11-15T03_20_50_568Z/Kickstarter030.csv\nkickstarter/Kickstarter_2018-11-15T03_20_50_568Z/Kickstarter031.csv\nkickstarter/Kickstarter_2018-11-15T03_20_50_568Z/Kickstarter032.csv\nkickstarter/Kickstarter_2018-11-15T03_20_50_568Z/Kickstarter033.csv\nkickstarter/Kickstarter_2018-11-15T03_20_50_568Z/Kickstarter034.csv\nkickstarter/Kickstarter_2018-11-15T03_20_50_568Z/Kickstarter035.csv\nkickstarter/Kickstarter_2018-11-15T03_20_50_568Z/Kickstarter036.csv\nkickstarter/Kickstarter_2018-11-15T03_20_50_568Z/Kickstarter037.csv\nkickstarter/Kickstarter_2018-11-15T03_20_50_568Z/Kickstarter038.csv\nkickstarter/Kickstarter_2018-11-15T03_20_50_568Z/Kickstarter039.csv\nkickstarter/Kickstarter_2018-11-15T03_20_50_568Z/Kickstarter040.csv\nkickstarter/Kickstarter_2018-11-15T03_20_50_568Z/Kickstarter041.csv\nkickstarter/Kickstarter_2018-11-15T03_20_50_568Z/Kickstarter042.csv\nkickstarter/Kickstarter_2018-11-15T03_20_50_568Z/Kickstarter043.csv\nkickstarter/Kickstarter_2018-11-15T03_20_50_568Z/Kickstarter044.csv\nkickstarter/Kickstarter_2018-11-15T03_20_50_568Z/Kickstarter045.csv\nkickstarter/Kickstarter_2018-11-15T03_20_50_568Z/Kickstarter046.csv\nkickstarter/Kickstarter_2018-11-15T03_20_50_568Z/Kickstarter047.csv\nkickstarter/Kickstarter_2018-11-15T03_20_50_568Z/Kickstarter048.csv\nkickstarter/Kickstarter_2018-11-15T03_20_50_568Z/Kickstarter049.csv\nkickstarter/Kickstarter_2018-11-15T03_20_50_568Z/Kickstarter050.csv\nkickstarter/Kickstarter_2018-11-15T03_20_50_568Z/Kickstarter051.csv\nkickstarter/Kickstarter_2018-11-15T03_20_50_568Z/Kickstarter052.csv\nkickstarter/Kickstarter_2018-11-15T03_20_50_568Z/Kickstarter053.csv\nkickstarter/Kickstarter_2018-11-15T03_20_50_568Z/Kickstarter054.csv\nkickstarter/Kickstarter_2018-12-13T03_20_05_701Z/Kickstarter.csv\nkickstarter/Kickstarter_2018-12-13T03_20_05_701Z/Kickstarter001.csv\nkickstarter/Kickstarter_2018-12-13T03_20_05_701Z/Kickstarter002.csv\nkickstarter/Kickstarter_2018-12-13T03_20_05_701Z/Kickstarter003.csv\nkickstarter/Kickstarter_2018-12-13T03_20_05_701Z/Kickstarter004.csv\nkickstarter/Kickstarter_2018-12-13T03_20_05_701Z/Kickstarter005.csv\nkickstarter/Kickstarter_2018-12-13T03_20_05_701Z/Kickstarter006.csv\nkickstarter/Kickstarter_2018-12-13T03_20_05_701Z/Kickstarter007.csv\nkickstarter/Kickstarter_2018-12-13T03_20_05_701Z/Kickstarter008.csv\nkickstarter/Kickstarter_2018-12-13T03_20_05_701Z/Kickstarter009.csv\nkickstarter/Kickstarter_2018-12-13T03_20_05_701Z/Kickstarter010.csv\nkickstarter/Kickstarter_2018-12-13T03_20_05_701Z/Kickstarter011.csv\nkickstarter/Kickstarter_2018-12-13T03_20_05_701Z/Kickstarter012.csv\nkickstarter/Kickstarter_2018-12-13T03_20_05_701Z/Kickstarter013.csv\nkickstarter/Kickstarter_2018-12-13T03_20_05_701Z/Kickstarter014.csv\nkickstarter/Kickstarter_2018-12-13T03_20_05_701Z/Kickstarter015.csv\nkickstarter/Kickstarter_2018-12-13T03_20_05_701Z/Kickstarter016.csv\nkickstarter/Kickstarter_2018-12-13T03_20_05_701Z/Kickstarter017.csv\nkickstarter/Kickstarter_2018-12-13T03_20_05_701Z/Kickstarter018.csv\nkickstarter/Kickstarter_2018-12-13T03_20_05_701Z/Kickstarter019.csv\nkickstarter/Kickstarter_2018-12-13T03_20_05_701Z/Kickstarter020.csv\nkickstarter/Kickstarter_2018-12-13T03_20_05_701Z/Kickstarter021.csv\nkickstarter/Kickstarter_2018-12-13T03_20_05_701Z/Kickstarter022.csv\nkickstarter/Kickstarter_2018-12-13T03_20_05_701Z/Kickstarter023.csv\nkickstarter/Kickstarter_2018-12-13T03_20_05_701Z/Kickstarter024.csv\nkickstarter/Kickstarter_2018-12-13T03_20_05_701Z/Kickstarter025.csv\nkickstarter/Kickstarter_2018-12-13T03_20_05_701Z/Kickstarter026.csv\nkickstarter/Kickstarter_2018-12-13T03_20_05_701Z/Kickstarter027.csv\nkickstarter/Kickstarter_2018-12-13T03_20_05_701Z/Kickstarter028.csv\nkickstarter/Kickstarter_2018-12-13T03_20_05_701Z/Kickstarter029.csv\nkickstarter/Kickstarter_2018-12-13T03_20_05_701Z/Kickstarter030.csv\nkickstarter/Kickstarter_2018-12-13T03_20_05_701Z/Kickstarter031.csv\nkickstarter/Kickstarter_2018-12-13T03_20_05_701Z/Kickstarter032.csv\nkickstarter/Kickstarter_2018-12-13T03_20_05_701Z/Kickstarter033.csv\nkickstarter/Kickstarter_2018-12-13T03_20_05_701Z/Kickstarter034.csv\nkickstarter/Kickstarter_2018-12-13T03_20_05_701Z/Kickstarter035.csv\nkickstarter/Kickstarter_2018-12-13T03_20_05_701Z/Kickstarter036.csv\nkickstarter/Kickstarter_2018-12-13T03_20_05_701Z/Kickstarter037.csv\nkickstarter/Kickstarter_2018-12-13T03_20_05_701Z/Kickstarter038.csv\nkickstarter/Kickstarter_2018-12-13T03_20_05_701Z/Kickstarter039.csv\nkickstarter/Kickstarter_2018-12-13T03_20_05_701Z/Kickstarter040.csv\nkickstarter/Kickstarter_2018-12-13T03_20_05_701Z/Kickstarter041.csv\nkickstarter/Kickstarter_2018-12-13T03_20_05_701Z/Kickstarter042.csv\nkickstarter/Kickstarter_2018-12-13T03_20_05_701Z/Kickstarter043.csv\nkickstarter/Kickstarter_2018-12-13T03_20_05_701Z/Kickstarter044.csv\nkickstarter/Kickstarter_2018-12-13T03_20_05_701Z/Kickstarter045.csv\nkickstarter/Kickstarter_2018-12-13T03_20_05_701Z/Kickstarter046.csv\nkickstarter/Kickstarter_2018-12-13T03_20_05_701Z/Kickstarter047.csv\nkickstarter/Kickstarter_2018-12-13T03_20_05_701Z/Kickstarter048.csv\nkickstarter/Kickstarter_2018-12-13T03_20_05_701Z/Kickstarter049.csv\nkickstarter/Kickstarter_2018-12-13T03_20_05_701Z/Kickstarter050.csv\nkickstarter/Kickstarter_2018-12-13T03_20_05_701Z/Kickstarter051.csv\nkickstarter/Kickstarter_2018-12-13T03_20_05_701Z/Kickstarter052.csv\nkickstarter/Kickstarter_2018-12-13T03_20_05_701Z/Kickstarter053.csv\nkickstarter/Kickstarter_2018-12-13T03_20_05_701Z/Kickstarter054.csv\nkickstarter/Kickstarter_2019-01-17T03_20_02_630Z/Kickstarter.csv\nkickstarter/Kickstarter_2019-01-17T03_20_02_630Z/Kickstarter001.csv\nkickstarter/Kickstarter_2019-01-17T03_20_02_630Z/Kickstarter002.csv\nkickstarter/Kickstarter_2019-01-17T03_20_02_630Z/Kickstarter003.csv\nkickstarter/Kickstarter_2019-01-17T03_20_02_630Z/Kickstarter004.csv\nkickstarter/Kickstarter_2019-01-17T03_20_02_630Z/Kickstarter005.csv\nkickstarter/Kickstarter_2019-01-17T03_20_02_630Z/Kickstarter006.csv\nkickstarter/Kickstarter_2019-01-17T03_20_02_630Z/Kickstarter007.csv\nkickstarter/Kickstarter_2019-01-17T03_20_02_630Z/Kickstarter008.csv\nkickstarter/Kickstarter_2019-01-17T03_20_02_630Z/Kickstarter009.csv\nkickstarter/Kickstarter_2019-01-17T03_20_02_630Z/Kickstarter010.csv\nkickstarter/Kickstarter_2019-01-17T03_20_02_630Z/Kickstarter011.csv\nkickstarter/Kickstarter_2019-01-17T03_20_02_630Z/Kickstarter012.csv\nkickstarter/Kickstarter_2019-01-17T03_20_02_630Z/Kickstarter013.csv\nkickstarter/Kickstarter_2019-01-17T03_20_02_630Z/Kickstarter014.csv\nkickstarter/Kickstarter_2019-01-17T03_20_02_630Z/Kickstarter015.csv\nkickstarter/Kickstarter_2019-01-17T03_20_02_630Z/Kickstarter016.csv\nkickstarter/Kickstarter_2019-01-17T03_20_02_630Z/Kickstarter017.csv\nkickstarter/Kickstarter_2019-01-17T03_20_02_630Z/Kickstarter018.csv\nkickstarter/Kickstarter_2019-01-17T03_20_02_630Z/Kickstarter019.csv\nkickstarter/Kickstarter_2019-01-17T03_20_02_630Z/Kickstarter020.csv\nkickstarter/Kickstarter_2019-01-17T03_20_02_630Z/Kickstarter021.csv\nkickstarter/Kickstarter_2019-01-17T03_20_02_630Z/Kickstarter022.csv\nkickstarter/Kickstarter_2019-01-17T03_20_02_630Z/Kickstarter023.csv\nkickstarter/Kickstarter_2019-01-17T03_20_02_630Z/Kickstarter024.csv\nkickstarter/Kickstarter_2019-01-17T03_20_02_630Z/Kickstarter025.csv\nkickstarter/Kickstarter_2019-01-17T03_20_02_630Z/Kickstarter026.csv\nkickstarter/Kickstarter_2019-01-17T03_20_02_630Z/Kickstarter027.csv\nkickstarter/Kickstarter_2019-01-17T03_20_02_630Z/Kickstarter028.csv\nkickstarter/Kickstarter_2019-01-17T03_20_02_630Z/Kickstarter029.csv\nkickstarter/Kickstarter_2019-01-17T03_20_02_630Z/Kickstarter030.csv\nkickstarter/Kickstarter_2019-01-17T03_20_02_630Z/Kickstarter031.csv\nkickstarter/Kickstarter_2019-01-17T03_20_02_630Z/Kickstarter032.csv\nkickstarter/Kickstarter_2019-01-17T03_20_02_630Z/Kickstarter033.csv\nkickstarter/Kickstarter_2019-01-17T03_20_02_630Z/Kickstarter034.csv\nkickstarter/Kickstarter_2019-01-17T03_20_02_630Z/Kickstarter035.csv\nkickstarter/Kickstarter_2019-01-17T03_20_02_630Z/Kickstarter036.csv\nkickstarter/Kickstarter_2019-01-17T03_20_02_630Z/Kickstarter037.csv\nkickstarter/Kickstarter_2019-01-17T03_20_02_630Z/Kickstarter038.csv\nkickstarter/Kickstarter_2019-01-17T03_20_02_630Z/Kickstarter039.csv\nkickstarter/Kickstarter_2019-01-17T03_20_02_630Z/Kickstarter040.csv\nkickstarter/Kickstarter_2019-01-17T03_20_02_630Z/Kickstarter041.csv\nkickstarter/Kickstarter_2019-01-17T03_20_02_630Z/Kickstarter042.csv\nkickstarter/Kickstarter_2019-01-17T03_20_02_630Z/Kickstarter043.csv\nkickstarter/Kickstarter_2019-01-17T03_20_02_630Z/Kickstarter044.csv\nkickstarter/Kickstarter_2019-01-17T03_20_02_630Z/Kickstarter045.csv\nkickstarter/Kickstarter_2019-01-17T03_20_02_630Z/Kickstarter046.csv\nkickstarter/Kickstarter_2019-01-17T03_20_02_630Z/Kickstarter047.csv\nkickstarter/Kickstarter_2019-01-17T03_20_02_630Z/Kickstarter048.csv\nkickstarter/Kickstarter_2019-01-17T03_20_02_630Z/Kickstarter049.csv\nkickstarter/Kickstarter_2019-01-17T03_20_02_630Z/Kickstarter050.csv\nkickstarter/Kickstarter_2019-01-17T03_20_02_630Z/Kickstarter051.csv\nkickstarter/Kickstarter_2019-01-17T03_20_02_630Z/Kickstarter052.csv\nkickstarter/Kickstarter_2019-01-17T03_20_02_630Z/Kickstarter053.csv\nkickstarter/Kickstarter_2019-01-17T03_20_02_630Z/Kickstarter054.csv\nkickstarter/Kickstarter_2019-02-14T03_20_04_734Z/Kickstarter.csv\nkickstarter/Kickstarter_2019-02-14T03_20_04_734Z/Kickstarter001.csv\nkickstarter/Kickstarter_2019-02-14T03_20_04_734Z/Kickstarter002.csv\nkickstarter/Kickstarter_2019-02-14T03_20_04_734Z/Kickstarter003.csv\nkickstarter/Kickstarter_2019-02-14T03_20_04_734Z/Kickstarter004.csv\nkickstarter/Kickstarter_2019-02-14T03_20_04_734Z/Kickstarter005.csv\nkickstarter/Kickstarter_2019-02-14T03_20_04_734Z/Kickstarter006.csv\nkickstarter/Kickstarter_2019-02-14T03_20_04_734Z/Kickstarter007.csv\nkickstarter/Kickstarter_2019-02-14T03_20_04_734Z/Kickstarter008.csv\nkickstarter/Kickstarter_2019-02-14T03_20_04_734Z/Kickstarter009.csv\nkickstarter/Kickstarter_2019-02-14T03_20_04_734Z/Kickstarter010.csv\nkickstarter/Kickstarter_2019-02-14T03_20_04_734Z/Kickstarter011.csv\nkickstarter/Kickstarter_2019-02-14T03_20_04_734Z/Kickstarter012.csv\nkickstarter/Kickstarter_2019-02-14T03_20_04_734Z/Kickstarter013.csv\nkickstarter/Kickstarter_2019-02-14T03_20_04_734Z/Kickstarter014.csv\nkickstarter/Kickstarter_2019-02-14T03_20_04_734Z/Kickstarter015.csv\nkickstarter/Kickstarter_2019-02-14T03_20_04_734Z/Kickstarter016.csv\nkickstarter/Kickstarter_2019-02-14T03_20_04_734Z/Kickstarter017.csv\nkickstarter/Kickstarter_2019-02-14T03_20_04_734Z/Kickstarter018.csv\nkickstarter/Kickstarter_2019-02-14T03_20_04_734Z/Kickstarter019.csv\nkickstarter/Kickstarter_2019-02-14T03_20_04_734Z/Kickstarter020.csv\nkickstarter/Kickstarter_2019-02-14T03_20_04_734Z/Kickstarter021.csv\nkickstarter/Kickstarter_2019-02-14T03_20_04_734Z/Kickstarter022.csv\nkickstarter/Kickstarter_2019-02-14T03_20_04_734Z/Kickstarter023.csv\nkickstarter/Kickstarter_2019-02-14T03_20_04_734Z/Kickstarter024.csv\nkickstarter/Kickstarter_2019-02-14T03_20_04_734Z/Kickstarter025.csv\nkickstarter/Kickstarter_2019-02-14T03_20_04_734Z/Kickstarter026.csv\nkickstarter/Kickstarter_2019-02-14T03_20_04_734Z/Kickstarter027.csv\nkickstarter/Kickstarter_2019-02-14T03_20_04_734Z/Kickstarter028.csv\nkickstarter/Kickstarter_2019-02-14T03_20_04_734Z/Kickstarter029.csv\nkickstarter/Kickstarter_2019-02-14T03_20_04_734Z/Kickstarter030.csv\nkickstarter/Kickstarter_2019-02-14T03_20_04_734Z/Kickstarter031.csv\nkickstarter/Kickstarter_2019-02-14T03_20_04_734Z/Kickstarter032.csv\nkickstarter/Kickstarter_2019-02-14T03_20_04_734Z/Kickstarter033.csv\nkickstarter/Kickstarter_2019-02-14T03_20_04_734Z/Kickstarter034.csv\nkickstarter/Kickstarter_2019-02-14T03_20_04_734Z/Kickstarter035.csv\nkickstarter/Kickstarter_2019-02-14T03_20_04_734Z/Kickstarter036.csv\nkickstarter/Kickstarter_2019-02-14T03_20_04_734Z/Kickstarter037.csv\nkickstarter/Kickstarter_2019-02-14T03_20_04_734Z/Kickstarter038.csv\nkickstarter/Kickstarter_2019-02-14T03_20_04_734Z/Kickstarter039.csv\nkickstarter/Kickstarter_2019-02-14T03_20_04_734Z/Kickstarter040.csv\nkickstarter/Kickstarter_2019-02-14T03_20_04_734Z/Kickstarter041.csv\nkickstarter/Kickstarter_2019-02-14T03_20_04_734Z/Kickstarter042.csv\nkickstarter/Kickstarter_2019-02-14T03_20_04_734Z/Kickstarter043.csv\nkickstarter/Kickstarter_2019-02-14T03_20_04_734Z/Kickstarter044.csv\nkickstarter/Kickstarter_2019-02-14T03_20_04_734Z/Kickstarter045.csv\nkickstarter/Kickstarter_2019-02-14T03_20_04_734Z/Kickstarter046.csv\nkickstarter/Kickstarter_2019-02-14T03_20_04_734Z/Kickstarter047.csv\nkickstarter/Kickstarter_2019-02-14T03_20_04_734Z/Kickstarter048.csv\nkickstarter/Kickstarter_2019-02-14T03_20_04_734Z/Kickstarter049.csv\nkickstarter/Kickstarter_2019-02-14T03_20_04_734Z/Kickstarter050.csv\nkickstarter/Kickstarter_2019-02-14T03_20_04_734Z/Kickstarter051.csv\nkickstarter/Kickstarter_2019-02-14T03_20_04_734Z/Kickstarter052.csv\nkickstarter/Kickstarter_2019-02-14T03_20_04_734Z/Kickstarter053.csv\nkickstarter/Kickstarter_2019-02-14T03_20_04_734Z/Kickstarter054.csv\nkickstarter/Kickstarter_2019-03-14T03_20_12_200Z/Kickstarter.csv\nkickstarter/Kickstarter_2019-03-14T03_20_12_200Z/Kickstarter001.csv\nkickstarter/Kickstarter_2019-03-14T03_20_12_200Z/Kickstarter002.csv\nkickstarter/Kickstarter_2019-03-14T03_20_12_200Z/Kickstarter003.csv\nkickstarter/Kickstarter_2019-03-14T03_20_12_200Z/Kickstarter004.csv\nkickstarter/Kickstarter_2019-03-14T03_20_12_200Z/Kickstarter005.csv\nkickstarter/Kickstarter_2019-03-14T03_20_12_200Z/Kickstarter006.csv\nkickstarter/Kickstarter_2019-03-14T03_20_12_200Z/Kickstarter007.csv\nkickstarter/Kickstarter_2019-03-14T03_20_12_200Z/Kickstarter008.csv\nkickstarter/Kickstarter_2019-03-14T03_20_12_200Z/Kickstarter009.csv\nkickstarter/Kickstarter_2019-03-14T03_20_12_200Z/Kickstarter010.csv\nkickstarter/Kickstarter_2019-03-14T03_20_12_200Z/Kickstarter011.csv\nkickstarter/Kickstarter_2019-03-14T03_20_12_200Z/Kickstarter012.csv\nkickstarter/Kickstarter_2019-03-14T03_20_12_200Z/Kickstarter013.csv\nkickstarter/Kickstarter_2019-03-14T03_20_12_200Z/Kickstarter014.csv\nkickstarter/Kickstarter_2019-03-14T03_20_12_200Z/Kickstarter015.csv\nkickstarter/Kickstarter_2019-03-14T03_20_12_200Z/Kickstarter016.csv\nkickstarter/Kickstarter_2019-03-14T03_20_12_200Z/Kickstarter017.csv\nkickstarter/Kickstarter_2019-03-14T03_20_12_200Z/Kickstarter018.csv\nkickstarter/Kickstarter_2019-03-14T03_20_12_200Z/Kickstarter019.csv\nkickstarter/Kickstarter_2019-03-14T03_20_12_200Z/Kickstarter020.csv\nkickstarter/Kickstarter_2019-03-14T03_20_12_200Z/Kickstarter021.csv\nkickstarter/Kickstarter_2019-03-14T03_20_12_200Z/Kickstarter022.csv\nkickstarter/Kickstarter_2019-03-14T03_20_12_200Z/Kickstarter023.csv\nkickstarter/Kickstarter_2019-03-14T03_20_12_200Z/Kickstarter024.csv\nkickstarter/Kickstarter_2019-03-14T03_20_12_200Z/Kickstarter025.csv\nkickstarter/Kickstarter_2019-03-14T03_20_12_200Z/Kickstarter026.csv\nkickstarter/Kickstarter_2019-03-14T03_20_12_200Z/Kickstarter027.csv\nkickstarter/Kickstarter_2019-03-14T03_20_12_200Z/Kickstarter028.csv\nkickstarter/Kickstarter_2019-03-14T03_20_12_200Z/Kickstarter029.csv\nkickstarter/Kickstarter_2019-03-14T03_20_12_200Z/Kickstarter030.csv\nkickstarter/Kickstarter_2019-03-14T03_20_12_200Z/Kickstarter031.csv\nkickstarter/Kickstarter_2019-03-14T03_20_12_200Z/Kickstarter032.csv\nkickstarter/Kickstarter_2019-03-14T03_20_12_200Z/Kickstarter033.csv\nkickstarter/Kickstarter_2019-03-14T03_20_12_200Z/Kickstarter034.csv\nkickstarter/Kickstarter_2019-03-14T03_20_12_200Z/Kickstarter035.csv\nkickstarter/Kickstarter_2019-03-14T03_20_12_200Z/Kickstarter036.csv\nkickstarter/Kickstarter_2019-03-14T03_20_12_200Z/Kickstarter037.csv\nkickstarter/Kickstarter_2019-03-14T03_20_12_200Z/Kickstarter038.csv\nkickstarter/Kickstarter_2019-03-14T03_20_12_200Z/Kickstarter039.csv\nkickstarter/Kickstarter_2019-03-14T03_20_12_200Z/Kickstarter040.csv\nkickstarter/Kickstarter_2019-03-14T03_20_12_200Z/Kickstarter041.csv\nkickstarter/Kickstarter_2019-03-14T03_20_12_200Z/Kickstarter042.csv\nkickstarter/Kickstarter_2019-03-14T03_20_12_200Z/Kickstarter043.csv\nkickstarter/Kickstarter_2019-03-14T03_20_12_200Z/Kickstarter044.csv\nkickstarter/Kickstarter_2019-03-14T03_20_12_200Z/Kickstarter045.csv\nkickstarter/Kickstarter_2019-03-14T03_20_12_200Z/Kickstarter046.csv\nkickstarter/Kickstarter_2019-03-14T03_20_12_200Z/Kickstarter047.csv\nkickstarter/Kickstarter_2019-03-14T03_20_12_200Z/Kickstarter048.csv\nkickstarter/Kickstarter_2019-03-14T03_20_12_200Z/Kickstarter049.csv\nkickstarter/Kickstarter_2019-03-14T03_20_12_200Z/Kickstarter050.csv\nkickstarter/Kickstarter_2019-03-14T03_20_12_200Z/Kickstarter051.csv\nkickstarter/Kickstarter_2019-03-14T03_20_12_200Z/Kickstarter052.csv\nkickstarter/Kickstarter_2019-03-14T03_20_12_200Z/Kickstarter053.csv\nkickstarter/Kickstarter_2019-03-14T03_20_12_200Z/Kickstarter054.csv\nkickstarter/Kickstarter_2019-03-14T03_20_12_200Z/Kickstarter055.csv\n"
    }
   ],
   "source": [
    "for year in extration_parameter:\n",
    "\n",
    "\n",
    "    for monthly_directory in os.listdir(source_directory):\n",
    "        extract_date = re.findall(r\"\\d\\s*\\d\\s*\\d\\s*\\d-\\d\\s*\\d\\s*-\\d\\s*\\d\\s*\", monthly_directory)[0]\n",
    "        input_files = os.listdir(f\"{source_directory}/{monthly_directory}\")\n",
    "\n",
    "        for file in input_files:\n",
    "            input_file = f\"{source_directory}/{monthly_directory}/{file}\"\n",
    "            dw.ks_merge_files_fixed_date(input_file, output_file, extract_date,\"2018-01-01\",\"2018-12-31\",\"2019-12-12\")\n",
    "            print(input_file)"
   ]
  },
  {
   "cell_type": "markdown",
   "metadata": {},
   "source": [
    "## Create new dataset with only 1 row per project\n",
    "* Apply function etl.data_wrangling.kickstarter_fixed_date to keep most recent row for each project\n",
    "* Group states\n",
    "* Save file "
   ]
  },
  {
   "cell_type": "markdown",
   "metadata": {},
   "source": [
    "#### Set input and output parameters"
   ]
  },
  {
   "cell_type": "code",
   "execution_count": 14,
   "metadata": {},
   "outputs": [],
   "source": [
    "input_file = \"data/Kickstarter_fixed_date_2018.pkl\"\n",
    "output_file = \"data/Kickstarter_2018.pkl\""
   ]
  },
  {
   "cell_type": "markdown",
   "metadata": {},
   "source": [
    "#### Apply function"
   ]
  },
  {
   "cell_type": "code",
   "execution_count": 15,
   "metadata": {},
   "outputs": [],
   "source": [
    "dw.kickstarter_fixed_dates(input_file, output_file)"
   ]
  },
  {
   "cell_type": "markdown",
   "metadata": {},
   "source": [
    "## merge files between 2016 to 2019 \n"
   ]
  },
  {
   "cell_type": "code",
   "execution_count": 4,
   "metadata": {},
   "outputs": [],
   "source": [
    "files = [\"data/transformed/Kickstarter_2016.pkl\",\"data/transformed/Kickstarter_2017.pkl\",\"data/transformed/Kickstarter_2018.pkl\",\"data/transformed/Kickstarter_2019.pkl\"]"
   ]
  },
  {
   "cell_type": "code",
   "execution_count": 5,
   "metadata": {},
   "outputs": [],
   "source": [
    "datasets = []\n",
    "for file in files:\n",
    "    datasets.append(pd.read_pickle(file))"
   ]
  },
  {
   "cell_type": "code",
   "execution_count": 6,
   "metadata": {},
   "outputs": [],
   "source": [
    "datasets_merged = pd.concat(datasets, ignore_index=True)"
   ]
  },
  {
   "cell_type": "markdown",
   "metadata": {},
   "source": [
    "### Create goal ratio"
   ]
  },
  {
   "cell_type": "code",
   "execution_count": 23,
   "metadata": {},
   "outputs": [],
   "source": [
    "df_category_lvl1 =(datasets_merged[[\"category_lvl1\",\"usd_goal\"]]\n",
    "    .groupby(\"category_lvl1\")\n",
    "    .agg({\"usd_goal\":\"mean\"})\n",
    "    .rename(columns={\"usd_goal\":\"mean_goal_cat_lvl1\"})\n",
    "    .reset_index())"
   ]
  },
  {
   "cell_type": "code",
   "execution_count": 24,
   "metadata": {},
   "outputs": [],
   "source": [
    "df_category_lvl2 =(datasets_merged[[\"category_lvl2\",\"usd_goal\"]]\n",
    "    .groupby(\"category_lvl2\")\n",
    "    .agg({\"usd_goal\":\"mean\"})\n",
    "    .rename(columns={\"usd_goal\":\"mean_goal_cat_lvl2\"})\n",
    "    .reset_index())"
   ]
  },
  {
   "cell_type": "code",
   "execution_count": 25,
   "metadata": {},
   "outputs": [],
   "source": [
    "df_country =(datasets_merged[[\"country\",\"usd_goal\"]]\n",
    "    .groupby(\"country\")\n",
    "    .agg({\"usd_goal\":\"mean\"})\n",
    "    .rename(columns={\"usd_goal\":\"mean_goal_country\"})\n",
    "    .reset_index())"
   ]
  },
  {
   "cell_type": "code",
   "execution_count": 27,
   "metadata": {},
   "outputs": [],
   "source": [
    "datasets_merged = datasets_merged.merge(df_category_lvl1,how=\"left\")\n",
    "datasets_merged = datasets_merged.merge(df_category_lvl2,how=\"left\")\n",
    "datasets_merged = datasets_merged.merge(df_country,how=\"left\")"
   ]
  },
  {
   "cell_type": "code",
   "execution_count": 29,
   "metadata": {},
   "outputs": [],
   "source": [
    "datasets_merged[\"goal_ratio_category_lvl1\"] = datasets_merged[\"usd_goal\"] / datasets_merged[\"mean_goal_cat_lvl1\"]\n",
    "datasets_merged[\"goal_ratio_category_lvl2\"] = datasets_merged[\"usd_goal\"] / datasets_merged[\"mean_goal_cat_lvl2\"]\n",
    "datasets_merged[\"goal_ratio_country\"] = datasets_merged[\"usd_goal\"] / datasets_merged[\"mean_goal_country\"] "
   ]
  },
  {
   "cell_type": "code",
   "execution_count": 20,
   "metadata": {},
   "outputs": [
    {
     "data": {
      "text/plain": "(186682, 20)"
     },
     "execution_count": 20,
     "metadata": {},
     "output_type": "execute_result"
    }
   ],
   "source": [
    "datasets_merged.shape"
   ]
  },
  {
   "cell_type": "code",
   "execution_count": 18,
   "metadata": {},
   "outputs": [],
   "source": [
    "datasets_merged.to_pickle(\"data/kickstarter_hist.pkl\")"
   ]
  },
  {
   "cell_type": "code",
   "execution_count": 27,
   "metadata": {},
   "outputs": [
    {
     "data": {
      "text/plain": "Index(['slug', 'name', 'blurb', 'category_lvl1', 'category_lvl2', 'country',\n       'created_at', 'deadline', 'launched_at', 'usd_goal', 'usd_pledged',\n       'state', 'state_changed_at', 'backers_count', 'user_id', 'project_url',\n       'extract_date', 'extract_month', 'created_month', 'state_defined'],\n      dtype='object')"
     },
     "execution_count": 27,
     "metadata": {},
     "output_type": "execute_result"
    }
   ],
   "source": [
    "datasets_merged.columns"
   ]
  },
  {
   "cell_type": "code",
   "execution_count": 30,
   "metadata": {},
   "outputs": [],
   "source": [
    "columns = ['slug', 'category_lvl1', 'category_lvl2', 'country',\n",
    "       'created_at', 'deadline', 'usd_goal', 'usd_pledged',\n",
    "       'backers_count', 'project_url',\n",
    "       'extract_date', 'state_defined','goal_ratio_category_lvl1','goal_ratio_category_lvl2','goal_ratio_country']"
   ]
  },
  {
   "cell_type": "code",
   "execution_count": 31,
   "metadata": {},
   "outputs": [],
   "source": [
    "datasets_merged = datasets_merged[datasets_merged.created_month.lt(\"2019-10-01\")][columns]"
   ]
  },
  {
   "cell_type": "code",
   "execution_count": 33,
   "metadata": {},
   "outputs": [
    {
     "data": {
      "text/html": "<div>\n<style scoped>\n    .dataframe tbody tr th:only-of-type {\n        vertical-align: middle;\n    }\n\n    .dataframe tbody tr th {\n        vertical-align: top;\n    }\n\n    .dataframe thead th {\n        text-align: right;\n    }\n</style>\n<table border=\"1\" class=\"dataframe\">\n  <thead>\n    <tr style=\"text-align: right;\">\n      <th></th>\n      <th>slug</th>\n      <th>category_lvl1</th>\n      <th>category_lvl2</th>\n      <th>country</th>\n      <th>created_at</th>\n      <th>deadline</th>\n      <th>usd_goal</th>\n      <th>usd_pledged</th>\n      <th>backers_count</th>\n      <th>project_url</th>\n      <th>extract_date</th>\n      <th>state_defined</th>\n      <th>goal_ratio_category_lvl1</th>\n      <th>goal_ratio_category_lvl2</th>\n      <th>goal_ratio_country</th>\n    </tr>\n  </thead>\n  <tbody>\n    <tr>\n      <th>0</th>\n      <td>project-flint</td>\n      <td>crafts</td>\n      <td>printing</td>\n      <td>US</td>\n      <td>2016-01-22 04:34:34</td>\n      <td>2016-02-12 02:31:03</td>\n      <td>63000.00000</td>\n      <td>0.000000</td>\n      <td>0</td>\n      <td>https://www.kickstarter.com/projects/157647630...</td>\n      <td>2016-01-28</td>\n      <td>failed/canceled</td>\n      <td>6.967916</td>\n      <td>10.732062</td>\n      <td>1.703686</td>\n    </tr>\n    <tr>\n      <th>1</th>\n      <td>gaint-surprise</td>\n      <td>design</td>\n      <td>product design</td>\n      <td>GB</td>\n      <td>2016-01-16 15:15:32</td>\n      <td>2016-02-18 20:23:13</td>\n      <td>7137.31045</td>\n      <td>0.000000</td>\n      <td>0</td>\n      <td>https://www.kickstarter.com/projects/130637401...</td>\n      <td>2016-01-28</td>\n      <td>failed/canceled</td>\n      <td>0.260486</td>\n      <td>0.323656</td>\n      <td>0.415820</td>\n    </tr>\n    <tr>\n      <th>2</th>\n      <td>the-stakk</td>\n      <td>design</td>\n      <td>product design</td>\n      <td>US</td>\n      <td>2016-01-03 15:00:18</td>\n      <td>2016-02-02 18:35:00</td>\n      <td>5000.00000</td>\n      <td>0.000000</td>\n      <td>0</td>\n      <td>https://www.kickstarter.com/projects/124810776...</td>\n      <td>2016-01-28</td>\n      <td>failed/canceled</td>\n      <td>0.182482</td>\n      <td>0.226735</td>\n      <td>0.135213</td>\n    </tr>\n    <tr>\n      <th>3</th>\n      <td>down-syndrome-awareness-bracelets-shirts-hats</td>\n      <td>design</td>\n      <td>product design</td>\n      <td>US</td>\n      <td>2016-01-22 05:24:22</td>\n      <td>2016-02-21 05:24:00</td>\n      <td>1500.00000</td>\n      <td>0.000000</td>\n      <td>0</td>\n      <td>https://www.kickstarter.com/projects/215592288...</td>\n      <td>2016-01-28</td>\n      <td>failed/canceled</td>\n      <td>0.054744</td>\n      <td>0.068021</td>\n      <td>0.040564</td>\n    </tr>\n    <tr>\n      <th>4</th>\n      <td>ta-boxes-a-new-electrical-box-to-simplify-snaking</td>\n      <td>design</td>\n      <td>product design</td>\n      <td>US</td>\n      <td>2016-01-03 14:25:19</td>\n      <td>2016-03-04 21:07:48</td>\n      <td>150000.00000</td>\n      <td>31.000000</td>\n      <td>2</td>\n      <td>https://www.kickstarter.com/projects/145298163...</td>\n      <td>2016-01-28</td>\n      <td>failed/canceled</td>\n      <td>5.474449</td>\n      <td>6.802050</td>\n      <td>4.056395</td>\n    </tr>\n    <tr>\n      <th>...</th>\n      <td>...</td>\n      <td>...</td>\n      <td>...</td>\n      <td>...</td>\n      <td>...</td>\n      <td>...</td>\n      <td>...</td>\n      <td>...</td>\n      <td>...</td>\n      <td>...</td>\n      <td>...</td>\n      <td>...</td>\n      <td>...</td>\n      <td>...</td>\n      <td>...</td>\n    </tr>\n    <tr>\n      <th>186677</th>\n      <td>woodies-sustainable-stretch-jeans-guaranteed-p...</td>\n      <td>fashion</td>\n      <td>NaN</td>\n      <td>US</td>\n      <td>2019-06-05 23:29:47</td>\n      <td>2019-11-07 04:00:00</td>\n      <td>20000.00000</td>\n      <td>86286.000000</td>\n      <td>606</td>\n      <td>https://www.kickstarter.com/projects/woodiesde...</td>\n      <td>2019-12-12</td>\n      <td>successful</td>\n      <td>1.411404</td>\n      <td>NaN</td>\n      <td>0.540853</td>\n    </tr>\n    <tr>\n      <th>186678</th>\n      <td>libro-productividad-inteligente</td>\n      <td>publishing</td>\n      <td>academic</td>\n      <td>MX</td>\n      <td>2019-03-15 13:56:16</td>\n      <td>2019-04-08 20:17:44</td>\n      <td>2082.35720</td>\n      <td>1.499297</td>\n      <td>2</td>\n      <td>https://www.kickstarter.com/projects/israelpal...</td>\n      <td>2019-12-12</td>\n      <td>failed/canceled</td>\n      <td>0.129743</td>\n      <td>0.101418</td>\n      <td>0.166869</td>\n    </tr>\n    <tr>\n      <th>186679</th>\n      <td>hikium-shoes</td>\n      <td>fashion</td>\n      <td>footwear</td>\n      <td>NL</td>\n      <td>2019-05-24 11:21:19</td>\n      <td>2019-06-23 12:05:18</td>\n      <td>1115.03852</td>\n      <td>270.954360</td>\n      <td>5</td>\n      <td>https://www.kickstarter.com/projects/ussenter/...</td>\n      <td>2019-12-12</td>\n      <td>failed/canceled</td>\n      <td>0.078689</td>\n      <td>0.043188</td>\n      <td>0.043422</td>\n    </tr>\n    <tr>\n      <th>186680</th>\n      <td>giving-hope-to-people-across-the-globe-through...</td>\n      <td>music</td>\n      <td>faith</td>\n      <td>US</td>\n      <td>2019-03-24 13:36:14</td>\n      <td>2019-06-20 15:59:00</td>\n      <td>20000.00000</td>\n      <td>1045.000000</td>\n      <td>10</td>\n      <td>https://www.kickstarter.com/projects/kanthonyl...</td>\n      <td>2019-12-12</td>\n      <td>failed/canceled</td>\n      <td>1.419314</td>\n      <td>2.033659</td>\n      <td>0.540853</td>\n    </tr>\n    <tr>\n      <th>186681</th>\n      <td>unpacked-urban-tote</td>\n      <td>art</td>\n      <td>textiles</td>\n      <td>US</td>\n      <td>2019-05-16 19:20:15</td>\n      <td>2019-07-16 06:59:00</td>\n      <td>700.00000</td>\n      <td>93.000000</td>\n      <td>3</td>\n      <td>https://www.kickstarter.com/projects/andreahic...</td>\n      <td>2019-12-12</td>\n      <td>failed/canceled</td>\n      <td>0.027142</td>\n      <td>0.014750</td>\n      <td>0.018930</td>\n    </tr>\n  </tbody>\n</table>\n<p>184423 rows × 15 columns</p>\n</div>",
      "text/plain": "                                                     slug category_lvl1  \\\n0                                           project-flint        crafts   \n1                                          gaint-surprise        design   \n2                                               the-stakk        design   \n3           down-syndrome-awareness-bracelets-shirts-hats        design   \n4       ta-boxes-a-new-electrical-box-to-simplify-snaking        design   \n...                                                   ...           ...   \n186677  woodies-sustainable-stretch-jeans-guaranteed-p...       fashion   \n186678                    libro-productividad-inteligente    publishing   \n186679                                       hikium-shoes       fashion   \n186680  giving-hope-to-people-across-the-globe-through...         music   \n186681                                unpacked-urban-tote           art   \n\n         category_lvl2 country          created_at            deadline  \\\n0             printing      US 2016-01-22 04:34:34 2016-02-12 02:31:03   \n1       product design      GB 2016-01-16 15:15:32 2016-02-18 20:23:13   \n2       product design      US 2016-01-03 15:00:18 2016-02-02 18:35:00   \n3       product design      US 2016-01-22 05:24:22 2016-02-21 05:24:00   \n4       product design      US 2016-01-03 14:25:19 2016-03-04 21:07:48   \n...                ...     ...                 ...                 ...   \n186677             NaN      US 2019-06-05 23:29:47 2019-11-07 04:00:00   \n186678        academic      MX 2019-03-15 13:56:16 2019-04-08 20:17:44   \n186679        footwear      NL 2019-05-24 11:21:19 2019-06-23 12:05:18   \n186680           faith      US 2019-03-24 13:36:14 2019-06-20 15:59:00   \n186681        textiles      US 2019-05-16 19:20:15 2019-07-16 06:59:00   \n\n            usd_goal   usd_pledged  backers_count  \\\n0        63000.00000      0.000000              0   \n1         7137.31045      0.000000              0   \n2         5000.00000      0.000000              0   \n3         1500.00000      0.000000              0   \n4       150000.00000     31.000000              2   \n...              ...           ...            ...   \n186677   20000.00000  86286.000000            606   \n186678    2082.35720      1.499297              2   \n186679    1115.03852    270.954360              5   \n186680   20000.00000   1045.000000             10   \n186681     700.00000     93.000000              3   \n\n                                              project_url extract_date  \\\n0       https://www.kickstarter.com/projects/157647630...   2016-01-28   \n1       https://www.kickstarter.com/projects/130637401...   2016-01-28   \n2       https://www.kickstarter.com/projects/124810776...   2016-01-28   \n3       https://www.kickstarter.com/projects/215592288...   2016-01-28   \n4       https://www.kickstarter.com/projects/145298163...   2016-01-28   \n...                                                   ...          ...   \n186677  https://www.kickstarter.com/projects/woodiesde...   2019-12-12   \n186678  https://www.kickstarter.com/projects/israelpal...   2019-12-12   \n186679  https://www.kickstarter.com/projects/ussenter/...   2019-12-12   \n186680  https://www.kickstarter.com/projects/kanthonyl...   2019-12-12   \n186681  https://www.kickstarter.com/projects/andreahic...   2019-12-12   \n\n          state_defined  goal_ratio_category_lvl1  goal_ratio_category_lvl2  \\\n0       failed/canceled                  6.967916                 10.732062   \n1       failed/canceled                  0.260486                  0.323656   \n2       failed/canceled                  0.182482                  0.226735   \n3       failed/canceled                  0.054744                  0.068021   \n4       failed/canceled                  5.474449                  6.802050   \n...                 ...                       ...                       ...   \n186677       successful                  1.411404                       NaN   \n186678  failed/canceled                  0.129743                  0.101418   \n186679  failed/canceled                  0.078689                  0.043188   \n186680  failed/canceled                  1.419314                  2.033659   \n186681  failed/canceled                  0.027142                  0.014750   \n\n        goal_ratio_country  \n0                 1.703686  \n1                 0.415820  \n2                 0.135213  \n3                 0.040564  \n4                 4.056395  \n...                    ...  \n186677            0.540853  \n186678            0.166869  \n186679            0.043422  \n186680            0.540853  \n186681            0.018930  \n\n[184423 rows x 15 columns]"
     },
     "execution_count": 33,
     "metadata": {},
     "output_type": "execute_result"
    }
   ],
   "source": [
    "datasets_merged"
   ]
  },
  {
   "cell_type": "code",
   "execution_count": 35,
   "metadata": {},
   "outputs": [],
   "source": [
    "datasets_merged.to_csv(\"data/extracted/kickstarter_hist.csv\", index=False)"
   ]
  },
  {
   "cell_type": "code",
   "execution_count": null,
   "metadata": {},
   "outputs": [],
   "source": []
  }
 ],
 "metadata": {
  "file_extension": ".py",
  "kernelspec": {
   "display_name": "Python 3.7.6 64-bit ('code_red': conda)",
   "language": "python",
   "name": "python37664bitcoderedconda693c8a623b8d44c8a58a234a9205c665"
  },
  "language_info": {
   "codemirror_mode": {
    "name": "ipython",
    "version": 3
   },
   "file_extension": ".py",
   "mimetype": "text/x-python",
   "name": "python",
   "nbconvert_exporter": "python",
   "pygments_lexer": "ipython3",
   "version": "3.6.10-final"
  },
  "mimetype": "text/x-python",
  "name": "python",
  "npconvert_exporter": "python",
  "pygments_lexer": "ipython3",
  "version": 3
 },
 "nbformat": 4,
 "nbformat_minor": 2
}