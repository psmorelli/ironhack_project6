{
 "cells": [
  {
   "source": [
    "import os\n",
    "import re\n",
    "from etl import data_wrangling as dw"
   ],
   "cell_type": "code",
   "outputs": [],
   "metadata": {},
   "execution_count": 1
  },
  {
   "cell_type": "code",
   "execution_count": 2,
   "metadata": {},
   "outputs": [],
   "source": [
    "data_directory = \"kickstarter\"\n",
    "output_file = \"data/Kickstarter.pkl\""
   ]
  },
  {
   "cell_type": "code",
   "execution_count": 3,
   "metadata": {},
   "outputs": [
    {
     "name": "stdout",
     "output_type": "stream",
     "text": "kickstarter/Kickstarter_2019-10-17T03_20_19_421Z/Kickstarter.csv\nkickstarter/Kickstarter_2019-10-17T03_20_19_421Z/Kickstarter001.csv\nkickstarter/Kickstarter_2019-10-17T03_20_19_421Z/Kickstarter002.csv\nkickstarter/Kickstarter_2019-10-17T03_20_19_421Z/Kickstarter003.csv\nkickstarter/Kickstarter_2019-10-17T03_20_19_421Z/Kickstarter004.csv\nkickstarter/Kickstarter_2019-10-17T03_20_19_421Z/Kickstarter005.csv\nkickstarter/Kickstarter_2019-10-17T03_20_19_421Z/Kickstarter006.csv\nkickstarter/Kickstarter_2019-10-17T03_20_19_421Z/Kickstarter007.csv\nkickstarter/Kickstarter_2019-10-17T03_20_19_421Z/Kickstarter008.csv\nkickstarter/Kickstarter_2019-10-17T03_20_19_421Z/Kickstarter009.csv\nkickstarter/Kickstarter_2019-10-17T03_20_19_421Z/Kickstarter010.csv\nkickstarter/Kickstarter_2019-10-17T03_20_19_421Z/Kickstarter011.csv\nkickstarter/Kickstarter_2019-10-17T03_20_19_421Z/Kickstarter012.csv\nkickstarter/Kickstarter_2019-10-17T03_20_19_421Z/Kickstarter013.csv\nkickstarter/Kickstarter_2019-10-17T03_20_19_421Z/Kickstarter014.csv\nkickstarter/Kickstarter_2019-10-17T03_20_19_421Z/Kickstarter015.csv\nkickstarter/Kickstarter_2019-10-17T03_20_19_421Z/Kickstarter016.csv\nkickstarter/Kickstarter_2019-10-17T03_20_19_421Z/Kickstarter017.csv\nkickstarter/Kickstarter_2019-10-17T03_20_19_421Z/Kickstarter018.csv\nkickstarter/Kickstarter_2019-10-17T03_20_19_421Z/Kickstarter019.csv\nkickstarter/Kickstarter_2019-10-17T03_20_19_421Z/Kickstarter020.csv\nkickstarter/Kickstarter_2019-10-17T03_20_19_421Z/Kickstarter021.csv\nkickstarter/Kickstarter_2019-10-17T03_20_19_421Z/Kickstarter022.csv\nkickstarter/Kickstarter_2019-10-17T03_20_19_421Z/Kickstarter023.csv\nkickstarter/Kickstarter_2019-10-17T03_20_19_421Z/Kickstarter024.csv\nkickstarter/Kickstarter_2019-10-17T03_20_19_421Z/Kickstarter025.csv\nkickstarter/Kickstarter_2019-10-17T03_20_19_421Z/Kickstarter026.csv\nkickstarter/Kickstarter_2019-10-17T03_20_19_421Z/Kickstarter027.csv\nkickstarter/Kickstarter_2019-10-17T03_20_19_421Z/Kickstarter028.csv\nkickstarter/Kickstarter_2019-10-17T03_20_19_421Z/Kickstarter029.csv\nkickstarter/Kickstarter_2019-10-17T03_20_19_421Z/Kickstarter030.csv\nkickstarter/Kickstarter_2019-10-17T03_20_19_421Z/Kickstarter031.csv\nkickstarter/Kickstarter_2019-10-17T03_20_19_421Z/Kickstarter032.csv\nkickstarter/Kickstarter_2019-10-17T03_20_19_421Z/Kickstarter033.csv\nkickstarter/Kickstarter_2019-10-17T03_20_19_421Z/Kickstarter034.csv\nkickstarter/Kickstarter_2019-10-17T03_20_19_421Z/Kickstarter035.csv\nkickstarter/Kickstarter_2019-10-17T03_20_19_421Z/Kickstarter036.csv\nkickstarter/Kickstarter_2019-10-17T03_20_19_421Z/Kickstarter037.csv\nkickstarter/Kickstarter_2019-10-17T03_20_19_421Z/Kickstarter038.csv\nkickstarter/Kickstarter_2019-10-17T03_20_19_421Z/Kickstarter039.csv\nkickstarter/Kickstarter_2019-10-17T03_20_19_421Z/Kickstarter040.csv\nkickstarter/Kickstarter_2019-10-17T03_20_19_421Z/Kickstarter041.csv\nkickstarter/Kickstarter_2019-10-17T03_20_19_421Z/Kickstarter042.csv\nkickstarter/Kickstarter_2019-10-17T03_20_19_421Z/Kickstarter043.csv\nkickstarter/Kickstarter_2019-10-17T03_20_19_421Z/Kickstarter044.csv\nkickstarter/Kickstarter_2019-10-17T03_20_19_421Z/Kickstarter045.csv\nkickstarter/Kickstarter_2019-10-17T03_20_19_421Z/Kickstarter046.csv\nkickstarter/Kickstarter_2019-10-17T03_20_19_421Z/Kickstarter047.csv\nkickstarter/Kickstarter_2019-10-17T03_20_19_421Z/Kickstarter048.csv\nkickstarter/Kickstarter_2019-10-17T03_20_19_421Z/Kickstarter049.csv\nkickstarter/Kickstarter_2019-10-17T03_20_19_421Z/Kickstarter050.csv\nkickstarter/Kickstarter_2019-10-17T03_20_19_421Z/Kickstarter051.csv\nkickstarter/Kickstarter_2019-10-17T03_20_19_421Z/Kickstarter052.csv\nkickstarter/Kickstarter_2019-10-17T03_20_19_421Z/Kickstarter053.csv\nkickstarter/Kickstarter_2019-10-17T03_20_19_421Z/Kickstarter054.csv\nkickstarter/Kickstarter_2019-10-17T03_20_19_421Z/Kickstarter055.csv\nkickstarter/Kickstarter_2019-11-14T03_20_27_004Z/Kickstarter.csv\nkickstarter/Kickstarter_2019-11-14T03_20_27_004Z/Kickstarter001.csv\nkickstarter/Kickstarter_2019-11-14T03_20_27_004Z/Kickstarter002.csv\nkickstarter/Kickstarter_2019-11-14T03_20_27_004Z/Kickstarter003.csv\nkickstarter/Kickstarter_2019-11-14T03_20_27_004Z/Kickstarter004.csv\nkickstarter/Kickstarter_2019-11-14T03_20_27_004Z/Kickstarter005.csv\nkickstarter/Kickstarter_2019-11-14T03_20_27_004Z/Kickstarter006.csv\nkickstarter/Kickstarter_2019-11-14T03_20_27_004Z/Kickstarter007.csv\nkickstarter/Kickstarter_2019-11-14T03_20_27_004Z/Kickstarter008.csv\nkickstarter/Kickstarter_2019-11-14T03_20_27_004Z/Kickstarter009.csv\nkickstarter/Kickstarter_2019-11-14T03_20_27_004Z/Kickstarter010.csv\nkickstarter/Kickstarter_2019-11-14T03_20_27_004Z/Kickstarter011.csv\nkickstarter/Kickstarter_2019-11-14T03_20_27_004Z/Kickstarter012.csv\nkickstarter/Kickstarter_2019-11-14T03_20_27_004Z/Kickstarter013.csv\nkickstarter/Kickstarter_2019-11-14T03_20_27_004Z/Kickstarter014.csv\nkickstarter/Kickstarter_2019-11-14T03_20_27_004Z/Kickstarter015.csv\nkickstarter/Kickstarter_2019-11-14T03_20_27_004Z/Kickstarter016.csv\nkickstarter/Kickstarter_2019-11-14T03_20_27_004Z/Kickstarter017.csv\nkickstarter/Kickstarter_2019-11-14T03_20_27_004Z/Kickstarter018.csv\nkickstarter/Kickstarter_2019-11-14T03_20_27_004Z/Kickstarter019.csv\nkickstarter/Kickstarter_2019-11-14T03_20_27_004Z/Kickstarter020.csv\nkickstarter/Kickstarter_2019-11-14T03_20_27_004Z/Kickstarter021.csv\nkickstarter/Kickstarter_2019-11-14T03_20_27_004Z/Kickstarter022.csv\nkickstarter/Kickstarter_2019-11-14T03_20_27_004Z/Kickstarter023.csv\nkickstarter/Kickstarter_2019-11-14T03_20_27_004Z/Kickstarter024.csv\nkickstarter/Kickstarter_2019-11-14T03_20_27_004Z/Kickstarter025.csv\nkickstarter/Kickstarter_2019-11-14T03_20_27_004Z/Kickstarter026.csv\nkickstarter/Kickstarter_2019-11-14T03_20_27_004Z/Kickstarter027.csv\nkickstarter/Kickstarter_2019-11-14T03_20_27_004Z/Kickstarter028.csv\nkickstarter/Kickstarter_2019-11-14T03_20_27_004Z/Kickstarter029.csv\nkickstarter/Kickstarter_2019-11-14T03_20_27_004Z/Kickstarter030.csv\nkickstarter/Kickstarter_2019-11-14T03_20_27_004Z/Kickstarter031.csv\nkickstarter/Kickstarter_2019-11-14T03_20_27_004Z/Kickstarter032.csv\nkickstarter/Kickstarter_2019-11-14T03_20_27_004Z/Kickstarter033.csv\nkickstarter/Kickstarter_2019-11-14T03_20_27_004Z/Kickstarter034.csv\nkickstarter/Kickstarter_2019-11-14T03_20_27_004Z/Kickstarter035.csv\nkickstarter/Kickstarter_2019-11-14T03_20_27_004Z/Kickstarter036.csv\nkickstarter/Kickstarter_2019-11-14T03_20_27_004Z/Kickstarter037.csv\nkickstarter/Kickstarter_2019-11-14T03_20_27_004Z/Kickstarter038.csv\nkickstarter/Kickstarter_2019-11-14T03_20_27_004Z/Kickstarter039.csv\nkickstarter/Kickstarter_2019-11-14T03_20_27_004Z/Kickstarter040.csv\nkickstarter/Kickstarter_2019-11-14T03_20_27_004Z/Kickstarter041.csv\nkickstarter/Kickstarter_2019-11-14T03_20_27_004Z/Kickstarter042.csv\nkickstarter/Kickstarter_2019-11-14T03_20_27_004Z/Kickstarter043.csv\nkickstarter/Kickstarter_2019-11-14T03_20_27_004Z/Kickstarter044.csv\nkickstarter/Kickstarter_2019-11-14T03_20_27_004Z/Kickstarter045.csv\nkickstarter/Kickstarter_2019-11-14T03_20_27_004Z/Kickstarter046.csv\nkickstarter/Kickstarter_2019-11-14T03_20_27_004Z/Kickstarter047.csv\nkickstarter/Kickstarter_2019-11-14T03_20_27_004Z/Kickstarter048.csv\nkickstarter/Kickstarter_2019-11-14T03_20_27_004Z/Kickstarter049.csv\nkickstarter/Kickstarter_2019-11-14T03_20_27_004Z/Kickstarter050.csv\nkickstarter/Kickstarter_2019-11-14T03_20_27_004Z/Kickstarter051.csv\nkickstarter/Kickstarter_2019-11-14T03_20_27_004Z/Kickstarter052.csv\nkickstarter/Kickstarter_2019-11-14T03_20_27_004Z/Kickstarter053.csv\nkickstarter/Kickstarter_2019-11-14T03_20_27_004Z/Kickstarter054.csv\nkickstarter/Kickstarter_2019-11-14T03_20_27_004Z/Kickstarter055.csv\nkickstarter/Kickstarter_2019-11-14T03_20_27_004Z/Kickstarter056.csv\nkickstarter/Kickstarter_2019-12-12T03_20_05_306Z/Kickstarter.csv\nkickstarter/Kickstarter_2019-12-12T03_20_05_306Z/Kickstarter001.csv\nkickstarter/Kickstarter_2019-12-12T03_20_05_306Z/Kickstarter002.csv\nkickstarter/Kickstarter_2019-12-12T03_20_05_306Z/Kickstarter003.csv\nkickstarter/Kickstarter_2019-12-12T03_20_05_306Z/Kickstarter004.csv\nkickstarter/Kickstarter_2019-12-12T03_20_05_306Z/Kickstarter005.csv\nkickstarter/Kickstarter_2019-12-12T03_20_05_306Z/Kickstarter006.csv\nkickstarter/Kickstarter_2019-12-12T03_20_05_306Z/Kickstarter007.csv\nkickstarter/Kickstarter_2019-12-12T03_20_05_306Z/Kickstarter008.csv\nkickstarter/Kickstarter_2019-12-12T03_20_05_306Z/Kickstarter009.csv\nkickstarter/Kickstarter_2019-12-12T03_20_05_306Z/Kickstarter010.csv\nkickstarter/Kickstarter_2019-12-12T03_20_05_306Z/Kickstarter011.csv\nkickstarter/Kickstarter_2019-12-12T03_20_05_306Z/Kickstarter012.csv\nkickstarter/Kickstarter_2019-12-12T03_20_05_306Z/Kickstarter013.csv\nkickstarter/Kickstarter_2019-12-12T03_20_05_306Z/Kickstarter014.csv\nkickstarter/Kickstarter_2019-12-12T03_20_05_306Z/Kickstarter015.csv\nkickstarter/Kickstarter_2019-12-12T03_20_05_306Z/Kickstarter016.csv\nkickstarter/Kickstarter_2019-12-12T03_20_05_306Z/Kickstarter017.csv\nkickstarter/Kickstarter_2019-12-12T03_20_05_306Z/Kickstarter018.csv\nkickstarter/Kickstarter_2019-12-12T03_20_05_306Z/Kickstarter019.csv\nkickstarter/Kickstarter_2019-12-12T03_20_05_306Z/Kickstarter020.csv\nkickstarter/Kickstarter_2019-12-12T03_20_05_306Z/Kickstarter021.csv\nkickstarter/Kickstarter_2019-12-12T03_20_05_306Z/Kickstarter022.csv\nkickstarter/Kickstarter_2019-12-12T03_20_05_306Z/Kickstarter023.csv\nkickstarter/Kickstarter_2019-12-12T03_20_05_306Z/Kickstarter024.csv\nkickstarter/Kickstarter_2019-12-12T03_20_05_306Z/Kickstarter025.csv\nkickstarter/Kickstarter_2019-12-12T03_20_05_306Z/Kickstarter026.csv\nkickstarter/Kickstarter_2019-12-12T03_20_05_306Z/Kickstarter027.csv\nkickstarter/Kickstarter_2019-12-12T03_20_05_306Z/Kickstarter028.csv\nkickstarter/Kickstarter_2019-12-12T03_20_05_306Z/Kickstarter029.csv\nkickstarter/Kickstarter_2019-12-12T03_20_05_306Z/Kickstarter030.csv\nkickstarter/Kickstarter_2019-12-12T03_20_05_306Z/Kickstarter031.csv\nkickstarter/Kickstarter_2019-12-12T03_20_05_306Z/Kickstarter032.csv\nkickstarter/Kickstarter_2019-12-12T03_20_05_306Z/Kickstarter033.csv\nkickstarter/Kickstarter_2019-12-12T03_20_05_306Z/Kickstarter034.csv\nkickstarter/Kickstarter_2019-12-12T03_20_05_306Z/Kickstarter035.csv\nkickstarter/Kickstarter_2019-12-12T03_20_05_306Z/Kickstarter036.csv\nkickstarter/Kickstarter_2019-12-12T03_20_05_306Z/Kickstarter037.csv\nkickstarter/Kickstarter_2019-12-12T03_20_05_306Z/Kickstarter038.csv\nkickstarter/Kickstarter_2019-12-12T03_20_05_306Z/Kickstarter039.csv\nkickstarter/Kickstarter_2019-12-12T03_20_05_306Z/Kickstarter040.csv\nkickstarter/Kickstarter_2019-12-12T03_20_05_306Z/Kickstarter041.csv\nkickstarter/Kickstarter_2019-12-12T03_20_05_306Z/Kickstarter042.csv\nkickstarter/Kickstarter_2019-12-12T03_20_05_306Z/Kickstarter043.csv\nkickstarter/Kickstarter_2019-12-12T03_20_05_306Z/Kickstarter044.csv\nkickstarter/Kickstarter_2019-12-12T03_20_05_306Z/Kickstarter045.csv\nkickstarter/Kickstarter_2019-12-12T03_20_05_306Z/Kickstarter046.csv\nkickstarter/Kickstarter_2019-12-12T03_20_05_306Z/Kickstarter047.csv\nkickstarter/Kickstarter_2019-12-12T03_20_05_306Z/Kickstarter048.csv\nkickstarter/Kickstarter_2019-12-12T03_20_05_306Z/Kickstarter049.csv\nkickstarter/Kickstarter_2019-12-12T03_20_05_306Z/Kickstarter050.csv\nkickstarter/Kickstarter_2019-12-12T03_20_05_306Z/Kickstarter051.csv\nkickstarter/Kickstarter_2019-12-12T03_20_05_306Z/Kickstarter052.csv\nkickstarter/Kickstarter_2019-12-12T03_20_05_306Z/Kickstarter053.csv\nkickstarter/Kickstarter_2019-12-12T03_20_05_306Z/Kickstarter054.csv\nkickstarter/Kickstarter_2019-12-12T03_20_05_306Z/Kickstarter055.csv\nkickstarter/Kickstarter_2019-12-12T03_20_05_306Z/Kickstarter056.csv\nkickstarter/Kickstarter_2019-12-12T03_20_05_306Z/Kickstarter057.csv\n"
    }
   ],
   "source": [
    "for monthly_directory in os.listdir(data_directory):\n",
    "    extract_date = re.findall(r\"\\d\\s*\\d\\s*\\d\\s*\\d-\\d\\s*\\d\\s*-\\d\\s*\\d\\s*\", monthly_directory)[0]\n",
    "    input_files = os.listdir(f\"{data_directory}/{monthly_directory}\")\n",
    "\n",
    "    for file in input_files:\n",
    "        input_file = f\"{data_directory}/{monthly_directory}/{file}\"\n",
    "        dw.ks_merge_files(input_file, output_file, extract_date)\n",
    "        print(input_file)"
   ]
  },
  {
   "source": [
    "input_file = \"data/Kickstarter.pkl\"\n",
    "output_file = \"data/Kickstarter_unique.pkl\""
   ],
   "cell_type": "code",
   "outputs": [],
   "metadata": {},
   "execution_count": 2
  },
  {
   "source": [
    "dw.success_failed_unique_rows(input_file, output_file, \"2019-12-01\")"
   ],
   "cell_type": "code",
   "outputs": [],
   "metadata": {},
   "execution_count": 3
  },
  {
   "cell_type": "code",
   "execution_count": null,
   "metadata": {},
   "outputs": [],
   "source": []
  }
 ],
 "metadata": {
  "file_extension": ".py",
  "kernelspec": {
   "display_name": "Python 3.7.6 64-bit ('code_red': conda)",
   "language": "python",
   "name": "python37664bitcoderedconda693c8a623b8d44c8a58a234a9205c665"
  },
  "language_info": {
   "codemirror_mode": {
    "name": "ipython",
    "version": 3
   },
   "file_extension": ".py",
   "mimetype": "text/x-python",
   "name": "python",
   "nbconvert_exporter": "python",
   "pygments_lexer": "ipython3",
   "version": "3.7.6-final"
  },
  "mimetype": "text/x-python",
  "name": "python",
  "npconvert_exporter": "python",
  "pygments_lexer": "ipython3",
  "version": 3
 },
 "nbformat": 4,
 "nbformat_minor": 2
}