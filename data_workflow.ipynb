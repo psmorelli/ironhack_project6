{
 "cells": [
  {
   "cell_type": "markdown",
   "metadata": {},
   "source": [
    "## Data Wrangling Process\n",
    "### Steps to create dataset for analysis"
   ]
  },
  {
   "cell_type": "markdown",
   "metadata": {},
   "source": [
    "### Import libraries"
   ]
  },
  {
   "cell_type": "code",
   "execution_count": 1,
   "metadata": {},
   "outputs": [],
   "source": [
    "import os\n",
    "import re\n",
    "from utils import data_wrangling as dw\n",
    "import pandas as pd\n",
    "import numpy as np"
   ]
  },
  {
   "cell_type": "markdown",
   "metadata": {},
   "source": [
    "### Set source folder and output file\n",
    "* source folder contain all extrations of kickstarter.com on 2019 executed by webrobots.io trough scraping and shared by partitioned CSV files. "
   ]
  },
  {
   "cell_type": "code",
   "execution_count": 26,
   "metadata": {},
   "outputs": [],
   "source": [
    "extration_parameter = {\"2016\": {\"source_directory\"      :   \"data/extracted/2016\",\n",
    "                                \"start_date\"            :   \"2016-01-01\",\n",
    "                                \"end_date\"              :   \"2016-12-31\",\n",
    "                                \"deadline\"              :   \"2019-12-12\",\n",
    "                                \"output_file\"           :   \"data/transformed/Kickstarter_fixed_date_2016.pkl\"},\n",
    "                        \"2017\": {\"source_directory\"     :   \"data/extracted/2017\",\n",
    "                                \"start_date\"            :   \"2017-01-01\",\n",
    "                                \"end_date\"              :   \"2017-12-31\",\n",
    "                                \"deadline\"              :   \"2019-12-12\",\n",
    "                                \"output_file\"           :   \"data/transformed/Kickstarter_fixed_date_2017.pkl\"},\n",
    "                        \"2018\": {\"source_directory\"     :   \"data/extracted/2018\",\n",
    "                                \"start_date\"            :   \"2018-01-01\",\n",
    "                                \"end_date\"              :   \"2018-12-31\",\n",
    "                                \"deadline\"              :   \"2019-12-12\",\n",
    "                                \"output_file\"           :   \"data/transformed/Kickstarter_fixed_date_2018.pkl\"},\n",
    "                        \"2019\": {\"source_directory\"     :   \"data/extracted/2019\",\n",
    "                                \"start_date\"            :   \"2019-01-01\",\n",
    "                                \"end_date\"              :   \"2019-12-31\",\n",
    "                                \"deadline\"              :   \"2019-12-12\",\n",
    "                                \"output_file\"           :   \"data/transformed/Kickstarter_fixed_date_2019.pkl\"}                                \n",
    "                                }"
   ]
  },
  {
   "cell_type": "markdown",
   "metadata": {},
   "source": [
    "### Extract, transform and save new file merged\n",
    "* Iteract trough all directories and files and apply function etl.data_wrangling.merge_files_fixed_date to extract relevant data, transform/clean columns and save new file merge_files_fixed_date"
   ]
  },
  {
   "cell_type": "code",
   "execution_count": 29,
   "metadata": {},
   "outputs": [
    {
     "name": "stdout",
     "output_type": "stream",
     "text": "20_39_033Z/Kickstarter046.csv\ndata/extracted/2018/Kickstarter_2018-03-15T03_20_39_033Z/Kickstarter047.csv\ndata/extracted/2018/Kickstarter_2018-03-15T03_20_39_033Z/Kickstarter048.csv\ndata/extracted/2018/Kickstarter_2018-03-15T03_20_39_033Z/Kickstarter049.csv\ndata/extracted/2018/Kickstarter_2018-04-12T03_20_13_192Z/Kickstarter.csv\ndata/extracted/2018/Kickstarter_2018-04-12T03_20_13_192Z/Kickstarter001.csv\ndata/extracted/2018/Kickstarter_2018-04-12T03_20_13_192Z/Kickstarter002.csv\ndata/extracted/2018/Kickstarter_2018-04-12T03_20_13_192Z/Kickstarter003.csv\ndata/extracted/2018/Kickstarter_2018-04-12T03_20_13_192Z/Kickstarter004.csv\ndata/extracted/2018/Kickstarter_2018-04-12T03_20_13_192Z/Kickstarter005.csv\ndata/extracted/2018/Kickstarter_2018-04-12T03_20_13_192Z/Kickstarter006.csv\ndata/extracted/2018/Kickstarter_2018-04-12T03_20_13_192Z/Kickstarter007.csv\ndata/extracted/2018/Kickstarter_2018-04-12T03_20_13_192Z/Kickstarter008.csv\ndata/extracted/2018/Kickstarter_2018-04-12T03_20_13_192Z/Kickstarter009.csv\ndata/extracted/2018/Kickstarter_2018-04-12T03_20_13_192Z/Kickstarter010.csv\ndata/extracted/2018/Kickstarter_2018-04-12T03_20_13_192Z/Kickstarter011.csv\ndata/extracted/2018/Kickstarter_2018-04-12T03_20_13_192Z/Kickstarter012.csv\ndata/extracted/2018/Kickstarter_2018-04-12T03_20_13_192Z/Kickstarter013.csv\ndata/extracted/2018/Kickstarter_2018-04-12T03_20_13_192Z/Kickstarter014.csv\ndata/extracted/2018/Kickstarter_2018-04-12T03_20_13_192Z/Kickstarter015.csv\ndata/extracted/2018/Kickstarter_2018-04-12T03_20_13_192Z/Kickstarter016.csv\ndata/extracted/2018/Kickstarter_2018-04-12T03_20_13_192Z/Kickstarter017.csv\ndata/extracted/2018/Kickstarter_2018-04-12T03_20_13_192Z/Kickstarter018.csv\ndata/extracted/2018/Kickstarter_2018-04-12T03_20_13_192Z/Kickstarter019.csv\ndata/extracted/2018/Kickstarter_2018-04-12T03_20_13_192Z/Kickstarter020.csv\ndata/extracted/2018/Kickstarter_2018-04-12T03_20_13_192Z/Kickstarter021.csv\ndata/extracted/2018/Kickstarter_2018-04-12T03_20_13_192Z/Kickstarter022.csv\ndata/extracted/2018/Kickstarter_2018-04-12T03_20_13_192Z/Kickstarter023.csv\ndata/extracted/2018/Kickstarter_2018-04-12T03_20_13_192Z/Kickstarter024.csv\ndata/extracted/2018/Kickstarter_2018-04-12T03_20_13_192Z/Kickstarter025.csv\ndata/extracted/2018/Kickstarter_2018-04-12T03_20_13_192Z/Kickstarter026.csv\ndata/extracted/2018/Kickstarter_2018-04-12T03_20_13_192Z/Kickstarter027.csv\ndata/extracted/2018/Kickstarter_2018-04-12T03_20_13_192Z/Kickstarter028.csv\ndata/extracted/2018/Kickstarter_2018-04-12T03_20_13_192Z/Kickstarter029.csv\ndata/extracted/2018/Kickstarter_2018-04-12T03_20_13_192Z/Kickstarter030.csv\ndata/extracted/2018/Kickstarter_2018-04-12T03_20_13_192Z/Kickstarter031.csv\ndata/extracted/2018/Kickstarter_2018-04-12T03_20_13_192Z/Kickstarter032.csv\ndata/extracted/2018/Kickstarter_2018-04-12T03_20_13_192Z/Kickstarter033.csv\ndata/extracted/2018/Kickstarter_2018-04-12T03_20_13_192Z/Kickstarter034.csv\ndata/extracted/2018/Kickstarter_2018-04-12T03_20_13_192Z/Kickstarter035.csv\ndata/extracted/2018/Kickstarter_2018-04-12T03_20_13_192Z/Kickstarter036.csv\ndata/extracted/2018/Kickstarter_2018-04-12T03_20_13_192Z/Kickstarter037.csv\ndata/extracted/2018/Kickstarter_2018-04-12T03_20_13_192Z/Kickstarter038.csv\ndata/extracted/2018/Kickstarter_2018-04-12T03_20_13_192Z/Kickstarter039.csv\ndata/extracted/2018/Kickstarter_2018-04-12T03_20_13_192Z/Kickstarter040.csv\ndata/extracted/2018/Kickstarter_2018-04-12T03_20_13_192Z/Kickstarter041.csv\ndata/extracted/2018/Kickstarter_2018-04-12T03_20_13_192Z/Kickstarter042.csv\ndata/extracted/2018/Kickstarter_2018-04-12T03_20_13_192Z/Kickstarter043.csv\ndata/extracted/2018/Kickstarter_2018-04-12T03_20_13_192Z/Kickstarter044.csv\ndata/extracted/2018/Kickstarter_2018-04-12T03_20_13_192Z/Kickstarter045.csv\ndata/extracted/2018/Kickstarter_2018-04-12T03_20_13_192Z/Kickstarter046.csv\ndata/extracted/2018/Kickstarter_2018-04-12T03_20_13_192Z/Kickstarter047.csv\ndata/extracted/2018/Kickstarter_2018-04-12T03_20_13_192Z/Kickstarter048.csv\ndata/extracted/2018/Kickstarter_2018-05-17T03_20_08_333Z/Kickstarter.csv\ndata/extracted/2018/Kickstarter_2018-05-17T03_20_08_333Z/Kickstarter001.csv\ndata/extracted/2018/Kickstarter_2018-05-17T03_20_08_333Z/Kickstarter002.csv\ndata/extracted/2018/Kickstarter_2018-05-17T03_20_08_333Z/Kickstarter003.csv\ndata/extracted/2018/Kickstarter_2018-05-17T03_20_08_333Z/Kickstarter004.csv\ndata/extracted/2018/Kickstarter_2018-05-17T03_20_08_333Z/Kickstarter005.csv\ndata/extracted/2018/Kickstarter_2018-05-17T03_20_08_333Z/Kickstarter006.csv\ndata/extracted/2018/Kickstarter_2018-05-17T03_20_08_333Z/Kickstarter007.csv\ndata/extracted/2018/Kickstarter_2018-05-17T03_20_08_333Z/Kickstarter008.csv\ndata/extracted/2018/Kickstarter_2018-05-17T03_20_08_333Z/Kickstarter009.csv\ndata/extracted/2018/Kickstarter_2018-05-17T03_20_08_333Z/Kickstarter010.csv\ndata/extracted/2018/Kickstarter_2018-05-17T03_20_08_333Z/Kickstarter011.csv\ndata/extracted/2018/Kickstarter_2018-05-17T03_20_08_333Z/Kickstarter012.csv\ndata/extracted/2018/Kickstarter_2018-05-17T03_20_08_333Z/Kickstarter013.csv\ndata/extracted/2018/Kickstarter_2018-05-17T03_20_08_333Z/Kickstarter014.csv\ndata/extracted/2018/Kickstarter_2018-05-17T03_20_08_333Z/Kickstarter015.csv\ndata/extracted/2018/Kickstarter_2018-05-17T03_20_08_333Z/Kickstarter016.csv\ndata/extracted/2018/Kickstarter_2018-05-17T03_20_08_333Z/Kickstarter017.csv\ndata/extracted/2018/Kickstarter_2018-05-17T03_20_08_333Z/Kickstarter018.csv\ndata/extracted/2018/Kickstarter_2018-05-17T03_20_08_333Z/Kickstarter019.csv\ndata/extracted/2018/Kickstarter_2018-05-17T03_20_08_333Z/Kickstarter020.csv\ndata/extracted/2018/Kickstarter_2018-05-17T03_20_08_333Z/Kickstarter021.csv\ndata/extracted/2018/Kickstarter_2018-05-17T03_20_08_333Z/Kickstarter022.csv\ndata/extracted/2018/Kickstarter_2018-05-17T03_20_08_333Z/Kickstarter023.csv\ndata/extracted/2018/Kickstarter_2018-05-17T03_20_08_333Z/Kickstarter024.csv\ndata/extracted/2018/Kickstarter_2018-05-17T03_20_08_333Z/Kickstarter025.csv\ndata/extracted/2018/Kickstarter_2018-05-17T03_20_08_333Z/Kickstarter026.csv\ndata/extracted/2018/Kickstarter_2018-05-17T03_20_08_333Z/Kickstarter027.csv\ndata/extracted/2018/Kickstarter_2018-05-17T03_20_08_333Z/Kickstarter028.csv\ndata/extracted/2018/Kickstarter_2018-05-17T03_20_08_333Z/Kickstarter029.csv\ndata/extracted/2018/Kickstarter_2018-05-17T03_20_08_333Z/Kickstarter030.csv\ndata/extracted/2018/Kickstarter_2018-05-17T03_20_08_333Z/Kickstarter031.csv\ndata/extracted/2018/Kickstarter_2018-05-17T03_20_08_333Z/Kickstarter032.csv\ndata/extracted/2018/Kickstarter_2018-05-17T03_20_08_333Z/Kickstarter033.csv\ndata/extracted/2018/Kickstarter_2018-05-17T03_20_08_333Z/Kickstarter034.csv\ndata/extracted/2018/Kickstarter_2018-05-17T03_20_08_333Z/Kickstarter035.csv\ndata/extracted/2018/Kickstarter_2018-05-17T03_20_08_333Z/Kickstarter036.csv\ndata/extracted/2018/Kickstarter_2018-05-17T03_20_08_333Z/Kickstarter037.csv\ndata/extracted/2018/Kickstarter_2018-05-17T03_20_08_333Z/Kickstarter038.csv\ndata/extracted/2018/Kickstarter_2018-05-17T03_20_08_333Z/Kickstarter039.csv\ndata/extracted/2018/Kickstarter_2018-05-17T03_20_08_333Z/Kickstarter040.csv\ndata/extracted/2018/Kickstarter_2018-05-17T03_20_08_333Z/Kickstarter041.csv\ndata/extracted/2018/Kickstarter_2018-05-17T03_20_08_333Z/Kickstarter042.csv\ndata/extracted/2018/Kickstarter_2018-05-17T03_20_08_333Z/Kickstarter043.csv\ndata/extracted/2018/Kickstarter_2018-05-17T03_20_08_333Z/Kickstarter044.csv\ndata/extracted/2018/Kickstarter_2018-05-17T03_20_08_333Z/Kickstarter045.csv\ndata/extracted/2018/Kickstarter_2018-05-17T03_20_08_333Z/Kickstarter046.csv\ndata/extracted/2018/Kickstarter_2018-05-17T03_20_08_333Z/Kickstarter047.csv\ndata/extracted/2018/Kickstarter_2018-05-17T03_20_08_333Z/Kickstarter048.csv\ndata/extracted/2018/Kickstarter_2018-05-17T03_20_08_333Z/Kickstarter049.csv\ndata/extracted/2018/Kickstarter_2018-06-14T03_20_15_782Z/Kickstarter.csv\ndata/extracted/2018/Kickstarter_2018-06-14T03_20_15_782Z/Kickstarter001.csv\ndata/extracted/2018/Kickstarter_2018-06-14T03_20_15_782Z/Kickstarter002.csv\ndata/extracted/2018/Kickstarter_2018-06-14T03_20_15_782Z/Kickstarter003.csv\ndata/extracted/2018/Kickstarter_2018-06-14T03_20_15_782Z/Kickstarter004.csv\ndata/extracted/2018/Kickstarter_2018-06-14T03_20_15_782Z/Kickstarter005.csv\ndata/extracted/2018/Kickstarter_2018-06-14T03_20_15_782Z/Kickstarter006.csv\ndata/extracted/2018/Kickstarter_2018-06-14T03_20_15_782Z/Kickstarter007.csv\ndata/extracted/2018/Kickstarter_2018-06-14T03_20_15_782Z/Kickstarter008.csv\ndata/extracted/2018/Kickstarter_2018-06-14T03_20_15_782Z/Kickstarter009.csv\ndata/extracted/2018/Kickstarter_2018-06-14T03_20_15_782Z/Kickstarter010.csv\ndata/extracted/2018/Kickstarter_2018-06-14T03_20_15_782Z/Kickstarter011.csv\ndata/extracted/2018/Kickstarter_2018-06-14T03_20_15_782Z/Kickstarter012.csv\ndata/extracted/2018/Kickstarter_2018-06-14T03_20_15_782Z/Kickstarter013.csv\ndata/extracted/2018/Kickstarter_2018-06-14T03_20_15_782Z/Kickstarter014.csv\ndata/extracted/2018/Kickstarter_2018-06-14T03_20_15_782Z/Kickstarter015.csv\ndata/extracted/2018/Kickstarter_2018-06-14T03_20_15_782Z/Kickstarter016.csv\ndata/extracted/2018/Kickstarter_2018-06-14T03_20_15_782Z/Kickstarter017.csv\ndata/extracted/2018/Kickstarter_2018-06-14T03_20_15_782Z/Kickstarter018.csv\ndata/extracted/2018/Kickstarter_2018-06-14T03_20_15_782Z/Kickstarter019.csv\ndata/extracted/2018/Kickstarter_2018-06-14T03_20_15_782Z/Kickstarter020.csv\ndata/extracted/2018/Kickstarter_2018-06-14T03_20_15_782Z/Kickstarter021.csv\ndata/extracted/2018/Kickstarter_2018-06-14T03_20_15_782Z/Kickstarter022.csv\ndata/extracted/2018/Kickstarter_2018-06-14T03_20_15_782Z/Kickstarter023.csv\ndata/extracted/2018/Kickstarter_2018-06-14T03_20_15_782Z/Kickstarter024.csv\ndata/extracted/2018/Kickstarter_2018-06-14T03_20_15_782Z/Kickstarter025.csv\ndata/extracted/2018/Kickstarter_2018-06-14T03_20_15_782Z/Kickstarter026.csv\ndata/extracted/2018/Kickstarter_2018-06-14T03_20_15_782Z/Kickstarter027.csv\ndata/extracted/2018/Kickstarter_2018-06-14T03_20_15_782Z/Kickstarter028.csv\ndata/extracted/2018/Kickstarter_2018-06-14T03_20_15_782Z/Kickstarter029.csv\ndata/extracted/2018/Kickstarter_2018-06-14T03_20_15_782Z/Kickstarter030.csv\ndata/extracted/2018/Kickstarter_2018-06-14T03_20_15_782Z/Kickstarter031.csv\ndata/extracted/2018/Kickstarter_2018-06-14T03_20_15_782Z/Kickstarter032.csv\ndata/extracted/2018/Kickstarter_2018-06-14T03_20_15_782Z/Kickstarter033.csv\ndata/extracted/2018/Kickstarter_2018-06-14T03_20_15_782Z/Kickstarter034.csv\ndata/extracted/2018/Kickstarter_2018-06-14T03_20_15_782Z/Kickstarter035.csv\ndata/extracted/2018/Kickstarter_2018-06-14T03_20_15_782Z/Kickstarter036.csv\ndata/extracted/2018/Kickstarter_2018-06-14T03_20_15_782Z/Kickstarter037.csv\ndata/extracted/2018/Kickstarter_2018-06-14T03_20_15_782Z/Kickstarter038.csv\ndata/extracted/2018/Kickstarter_2018-06-14T03_20_15_782Z/Kickstarter039.csv\ndata/extracted/2018/Kickstarter_2018-06-14T03_20_15_782Z/Kickstarter040.csv\ndata/extracted/2018/Kickstarter_2018-06-14T03_20_15_782Z/Kickstarter041.csv\ndata/extracted/2018/Kickstarter_2018-06-14T03_20_15_782Z/Kickstarter042.csv\ndata/extracted/2018/Kickstarter_2018-06-14T03_20_15_782Z/Kickstarter043.csv\ndata/extracted/2018/Kickstarter_2018-06-14T03_20_15_782Z/Kickstarter044.csv\ndata/extracted/2018/Kickstarter_2018-06-14T03_20_15_782Z/Kickstarter045.csv\ndata/extracted/2018/Kickstarter_2018-06-14T03_20_15_782Z/Kickstarter046.csv\ndata/extracted/2018/Kickstarter_2018-06-14T03_20_15_782Z/Kickstarter047.csv\ndata/extracted/2018/Kickstarter_2018-06-14T03_20_15_782Z/Kickstarter048.csv\ndata/extracted/2018/Kickstarter_2018-06-14T03_20_15_782Z/Kickstarter049.csv\ndata/extracted/2018/Kickstarter_2018-07-12T03_20_16_435Z/Kickstarter.csv\ndata/extracted/2018/Kickstarter_2018-07-12T03_20_16_435Z/Kickstarter001.csv\ndata/extracted/2018/Kickstarter_2018-07-12T03_20_16_435Z/Kickstarter002.csv\ndata/extracted/2018/Kickstarter_2018-07-12T03_20_16_435Z/Kickstarter003.csv\ndata/extracted/2018/Kickstarter_2018-07-12T03_20_16_435Z/Kickstarter004.csv\ndata/extracted/2018/Kickstarter_2018-07-12T03_20_16_435Z/Kickstarter005.csv\ndata/extracted/2018/Kickstarter_2018-07-12T03_20_16_435Z/Kickstarter006.csv\ndata/extracted/2018/Kickstarter_2018-07-12T03_20_16_435Z/Kickstarter007.csv\ndata/extracted/2018/Kickstarter_2018-07-12T03_20_16_435Z/Kickstarter008.csv\ndata/extracted/2018/Kickstarter_2018-07-12T03_20_16_435Z/Kickstarter009.csv\ndata/extracted/2018/Kickstarter_2018-07-12T03_20_16_435Z/Kickstarter010.csv\ndata/extracted/2018/Kickstarter_2018-07-12T03_20_16_435Z/Kickstarter011.csv\ndata/extracted/2018/Kickstarter_2018-07-12T03_20_16_435Z/Kickstarter012.csv\ndata/extracted/2018/Kickstarter_2018-07-12T03_20_16_435Z/Kickstarter013.csv\ndata/extracted/2018/Kickstarter_2018-07-12T03_20_16_435Z/Kickstarter014.csv\ndata/extracted/2018/Kickstarter_2018-07-12T03_20_16_435Z/Kickstarter015.csv\ndata/extracted/2018/Kickstarter_2018-07-12T03_20_16_435Z/Kickstarter016.csv\ndata/extracted/2018/Kickstarter_2018-07-12T03_20_16_435Z/Kickstarter017.csv\ndata/extracted/2018/Kickstarter_2018-07-12T03_20_16_435Z/Kickstarter018.csv\ndata/extracted/2018/Kickstarter_2018-07-12T03_20_16_435Z/Kickstarter019.csv\ndata/extracted/2018/Kickstarter_2018-07-12T03_20_16_435Z/Kickstarter020.csv\ndata/extracted/2018/Kickstarter_2018-07-12T03_20_16_435Z/Kickstarter021.csv\ndata/extracted/2018/Kickstarter_2018-07-12T03_20_16_435Z/Kickstarter022.csv\ndata/extracted/2018/Kickstarter_2018-07-12T03_20_16_435Z/Kickstarter023.csv\ndata/extracted/2018/Kickstarter_2018-07-12T03_20_16_435Z/Kickstarter024.csv\ndata/extracted/2018/Kickstarter_2018-07-12T03_20_16_435Z/Kickstarter025.csv\ndata/extracted/2018/Kickstarter_2018-07-12T03_20_16_435Z/Kickstarter026.csv\ndata/extracted/2018/Kickstarter_2018-07-12T03_20_16_435Z/Kickstarter027.csv\ndata/extracted/2018/Kickstarter_2018-07-12T03_20_16_435Z/Kickstarter028.csv\ndata/extracted/2018/Kickstarter_2018-07-12T03_20_16_435Z/Kickstarter029.csv\ndata/extracted/2018/Kickstarter_2018-07-12T03_20_16_435Z/Kickstarter030.csv\ndata/extracted/2018/Kickstarter_2018-07-12T03_20_16_435Z/Kickstarter031.csv\ndata/extracted/2018/Kickstarter_2018-07-12T03_20_16_435Z/Kickstarter032.csv\ndata/extracted/2018/Kickstarter_2018-07-12T03_20_16_435Z/Kickstarter033.csv\ndata/extracted/2018/Kickstarter_2018-07-12T03_20_16_435Z/Kickstarter034.csv\ndata/extracted/2018/Kickstarter_2018-07-12T03_20_16_435Z/Kickstarter035.csv\ndata/extracted/2018/Kickstarter_2018-07-12T03_20_16_435Z/Kickstarter036.csv\ndata/extracted/2018/Kickstarter_2018-07-12T03_20_16_435Z/Kickstarter037.csv\ndata/extracted/2018/Kickstarter_2018-07-12T03_20_16_435Z/Kickstarter038.csv\ndata/extracted/2018/Kickstarter_2018-07-12T03_20_16_435Z/Kickstarter039.csv\ndata/extracted/2018/Kickstarter_2018-07-12T03_20_16_435Z/Kickstarter040.csv\ndata/extracted/2018/Kickstarter_2018-07-12T03_20_16_435Z/Kickstarter041.csv\ndata/extracted/2018/Kickstarter_2018-07-12T03_20_16_435Z/Kickstarter042.csv\ndata/extracted/2018/Kickstarter_2018-07-12T03_20_16_435Z/Kickstarter043.csv\ndata/extracted/2018/Kickstarter_2018-07-12T03_20_16_435Z/Kickstarter044.csv\ndata/extracted/2018/Kickstarter_2018-07-12T03_20_16_435Z/Kickstarter045.csv\ndata/extracted/2018/Kickstarter_2018-07-12T03_20_16_435Z/Kickstarter046.csv\ndata/extracted/2018/Kickstarter_2018-07-12T03_20_16_435Z/Kickstarter047.csv\ndata/extracted/2018/Kickstarter_2018-07-12T03_20_16_435Z/Kickstarter048.csv\ndata/extracted/2018/Kickstarter_2018-07-12T03_20_16_435Z/Kickstarter049.csv\ndata/extracted/2018/Kickstarter_2018-08-16T03_20_13_856Z/Kickstarter.csv\ndata/extracted/2018/Kickstarter_2018-08-16T03_20_13_856Z/Kickstarter001.csv\ndata/extracted/2018/Kickstarter_2018-08-16T03_20_13_856Z/Kickstarter002.csv\ndata/extracted/2018/Kickstarter_2018-08-16T03_20_13_856Z/Kickstarter003.csv\ndata/extracted/2018/Kickstarter_2018-08-16T03_20_13_856Z/Kickstarter004.csv\ndata/extracted/2018/Kickstarter_2018-08-16T03_20_13_856Z/Kickstarter005.csv\ndata/extracted/2018/Kickstarter_2018-08-16T03_20_13_856Z/Kickstarter006.csv\ndata/extracted/2018/Kickstarter_2018-08-16T03_20_13_856Z/Kickstarter007.csv\ndata/extracted/2018/Kickstarter_2018-08-16T03_20_13_856Z/Kickstarter008.csv\ndata/extracted/2018/Kickstarter_2018-08-16T03_20_13_856Z/Kickstarter009.csv\ndata/extracted/2018/Kickstarter_2018-08-16T03_20_13_856Z/Kickstarter010.csv\ndata/extracted/2018/Kickstarter_2018-08-16T03_20_13_856Z/Kickstarter011.csv\ndata/extracted/2018/Kickstarter_2018-08-16T03_20_13_856Z/Kickstarter012.csv\ndata/extracted/2018/Kickstarter_2018-08-16T03_20_13_856Z/Kickstarter013.csv\ndata/extracted/2018/Kickstarter_2018-08-16T03_20_13_856Z/Kickstarter014.csv\ndata/extracted/2018/Kickstarter_2018-08-16T03_20_13_856Z/Kickstarter015.csv\ndata/extracted/2018/Kickstarter_2018-08-16T03_20_13_856Z/Kickstarter016.csv\ndata/extracted/2018/Kickstarter_2018-08-16T03_20_13_856Z/Kickstarter017.csv\ndata/extracted/2018/Kickstarter_2018-08-16T03_20_13_856Z/Kickstarter018.csv\ndata/extracted/2018/Kickstarter_2018-08-16T03_20_13_856Z/Kickstarter019.csv\ndata/extracted/2018/Kickstarter_2018-08-16T03_20_13_856Z/Kickstarter020.csv\ndata/extracted/2018/Kickstarter_2018-08-16T03_20_13_856Z/Kickstarter021.csv\ndata/extracted/2018/Kickstarter_2018-08-16T03_20_13_856Z/Kickstarter022.csv\ndata/extracted/2018/Kickstarter_2018-08-16T03_20_13_856Z/Kickstarter023.csv\ndata/extracted/2018/Kickstarter_2018-08-16T03_20_13_856Z/Kickstarter024.csv\ndata/extracted/2018/Kickstarter_2018-08-16T03_20_13_856Z/Kickstarter025.csv\ndata/extracted/2018/Kickstarter_2018-08-16T03_20_13_856Z/Kickstarter026.csv\ndata/extracted/2018/Kickstarter_2018-08-16T03_20_13_856Z/Kickstarter027.csv\ndata/extracted/2018/Kickstarter_2018-08-16T03_20_13_856Z/Kickstarter028.csv\ndata/extracted/2018/Kickstarter_2018-08-16T03_20_13_856Z/Kickstarter029.csv\ndata/extracted/2018/Kickstarter_2018-08-16T03_20_13_856Z/Kickstarter030.csv\ndata/extracted/2018/Kickstarter_2018-08-16T03_20_13_856Z/Kickstarter031.csv\ndata/extracted/2018/Kickstarter_2018-08-16T03_20_13_856Z/Kickstarter032.csv\ndata/extracted/2018/Kickstarter_2018-08-16T03_20_13_856Z/Kickstarter033.csv\ndata/extracted/2018/Kickstarter_2018-08-16T03_20_13_856Z/Kickstarter034.csv\ndata/extracted/2018/Kickstarter_2018-08-16T03_20_13_856Z/Kickstarter035.csv\ndata/extracted/2018/Kickstarter_2018-08-16T03_20_13_856Z/Kickstarter036.csv\ndata/extracted/2018/Kickstarter_2018-08-16T03_20_13_856Z/Kickstarter037.csv\ndata/extracted/2018/Kickstarter_2018-08-16T03_20_13_856Z/Kickstarter038.csv\ndata/extracted/2018/Kickstarter_2018-08-16T03_20_13_856Z/Kickstarter039.csv\ndata/extracted/2018/Kickstarter_2018-08-16T03_20_13_856Z/Kickstarter040.csv\ndata/extracted/2018/Kickstarter_2018-08-16T03_20_13_856Z/Kickstarter041.csv\ndata/extracted/2018/Kickstarter_2018-08-16T03_20_13_856Z/Kickstarter042.csv\ndata/extracted/2018/Kickstarter_2018-08-16T03_20_13_856Z/Kickstarter043.csv\ndata/extracted/2018/Kickstarter_2018-08-16T03_20_13_856Z/Kickstarter044.csv\ndata/extracted/2018/Kickstarter_2018-08-16T03_20_13_856Z/Kickstarter045.csv\ndata/extracted/2018/Kickstarter_2018-08-16T03_20_13_856Z/Kickstarter046.csv\ndata/extracted/2018/Kickstarter_2018-08-16T03_20_13_856Z/Kickstarter047.csv\ndata/extracted/2018/Kickstarter_2018-08-16T03_20_13_856Z/Kickstarter048.csv\ndata/extracted/2018/Kickstarter_2018-08-16T03_20_13_856Z/Kickstarter049.csv\ndata/extracted/2018/Kickstarter_2018-09-13T03_20_17_777Z/Kickstarter.csv\ndata/extracted/2018/Kickstarter_2018-09-13T03_20_17_777Z/Kickstarter001.csv\ndata/extracted/2018/Kickstarter_2018-09-13T03_20_17_777Z/Kickstarter002.csv\ndata/extracted/2018/Kickstarter_2018-09-13T03_20_17_777Z/Kickstarter003.csv\ndata/extracted/2018/Kickstarter_2018-09-13T03_20_17_777Z/Kickstarter004.csv\ndata/extracted/2018/Kickstarter_2018-09-13T03_20_17_777Z/Kickstarter005.csv\ndata/extracted/2018/Kickstarter_2018-09-13T03_20_17_777Z/Kickstarter006.csv\ndata/extracted/2018/Kickstarter_2018-09-13T03_20_17_777Z/Kickstarter007.csv\ndata/extracted/2018/Kickstarter_2018-09-13T03_20_17_777Z/Kickstarter008.csv\ndata/extracted/2018/Kickstarter_2018-09-13T03_20_17_777Z/Kickstarter009.csv\ndata/extracted/2018/Kickstarter_2018-09-13T03_20_17_777Z/Kickstarter010.csv\n"
    }
   ],
   "source": [
    "for year in extration_parameter:\n",
    "\n",
    "    for monthly_directory in os.listdir(extration_parameter[year][\"source_directory\"]):\n",
    "        extract_date = re.findall(r\"\\d\\s*\\d\\s*\\d\\s*\\d-\\d\\s*\\d\\s*-\\d\\s*\\d\\s*\", monthly_directory)[0]\n",
    "        input_files = os.listdir(extration_parameter[year][\"source_directory\"] + \"/\" + monthly_directory)\n",
    "\n",
    "        for file in input_files:\n",
    "            input_file = extration_parameter[year][\"source_directory\"] + \"/\" + monthly_directory + \"/\" + file\n",
    "            dw.ks_merge_files_fixed_date(input_file, extration_parameter[year][\"output_file\"], extract_date,extration_parameter[year][\"start_date\"], extration_parameter[year][\"end_date\"], extration_parameter[year][\"deadline\"])\n",
    "            print(input_file)"
   ]
  },
  {
   "cell_type": "markdown",
   "metadata": {},
   "source": [
    "## Create new dataset with only 1 row per project\n",
    "* Apply function etl.data_wrangling.kickstarter_fixed_date to keep most recent row for each project\n",
    "* Group states\n",
    "* Save file "
   ]
  },
  {
   "cell_type": "markdown",
   "metadata": {},
   "source": [
    "#### Set input and output parameters"
   ]
  },
  {
   "cell_type": "code",
   "execution_count": 2,
   "metadata": {},
   "outputs": [],
   "source": [
    "extration_parameter = {\"2016\": {\"input_file\"    :   \"data/transformed/Kickstarter_fixed_date_2016.pkl\",\n",
    "                                \"output_file\"   :   \"data/transformed/Kickstarter_2016.pkl\"},\n",
    "                       \"2017\": {\"input_file\"    :   \"data/transformed/Kickstarter_fixed_date_2017.pkl\",\n",
    "                                \"output_file\"   :   \"data/transformed/Kickstarter_2017.pkl\"},\n",
    "                       \"2018\": {\"input_file\"    :   \"data/transformed/Kickstarter_fixed_date_2018.pkl\",\n",
    "                                \"output_file\"   :   \"data/transformed/Kickstarter_2018.pkl\"},\n",
    "                       \"2019\": {\"input_file\"    :   \"data/transformed/Kickstarter_fixed_date_2019.pkl\",\n",
    "                                \"output_file\"   :   \"data/transformed/Kickstarter_2019.pkl\"}\n",
    "                                }"
   ]
  },
  {
   "cell_type": "code",
   "execution_count": 3,
   "metadata": {},
   "outputs": [
    {
     "name": "stdout",
     "output_type": "stream",
     "text": "data/transformed/Kickstarter_fixed_date_2016.pkl\ndata/transformed/Kickstarter_fixed_date_2017.pkl\ndata/transformed/Kickstarter_fixed_date_2018.pkl\ndata/transformed/Kickstarter_fixed_date_2019.pkl\n"
    }
   ],
   "source": [
    "# Apply function\n",
    "for year in extration_parameter:\n",
    "    dw.kickstarter_fixed_dates(extration_parameter[year][\"input_file\"], extration_parameter[year][\"output_file\"])\n",
    "    print(extration_parameter[year][\"input_file\"])\n"
   ]
  },
  {
   "cell_type": "markdown",
   "metadata": {},
   "source": [
    "## merge files between 2016 to 2019 \n"
   ]
  },
  {
   "cell_type": "code",
   "execution_count": 2,
   "metadata": {},
   "outputs": [],
   "source": [
    "input_files = [\"data/transformed/Kickstarter_2016.pkl\",\"data/transformed/Kickstarter_2017.pkl\",\"data/transformed/Kickstarter_2018.pkl\",\"data/transformed/Kickstarter_2019.pkl\"]"
   ]
  },
  {
   "cell_type": "code",
   "execution_count": 3,
   "metadata": {},
   "outputs": [],
   "source": [
    "dw.kickstarter_merge_years(input_files,\"data/transformed/kickstarter_hist.csv\")"
   ]
  },
  {
   "cell_type": "code",
   "execution_count": null,
   "metadata": {},
   "outputs": [],
   "source": []
  }
 ],
 "metadata": {
  "file_extension": ".py",
  "kernelspec": {
   "display_name": "Python 3.7.6 64-bit ('code_red': conda)",
   "language": "python",
   "name": "python37664bitcoderedconda693c8a623b8d44c8a58a234a9205c665"
  },
  "language_info": {
   "codemirror_mode": {
    "name": "ipython",
    "version": 3
   },
   "file_extension": ".py",
   "mimetype": "text/x-python",
   "name": "python",
   "nbconvert_exporter": "python",
   "pygments_lexer": "ipython3",
   "version": "3.7.6-final"
  },
  "mimetype": "text/x-python",
  "name": "python",
  "npconvert_exporter": "python",
  "pygments_lexer": "ipython3",
  "version": 3
 },
 "nbformat": 4,
 "nbformat_minor": 2
}