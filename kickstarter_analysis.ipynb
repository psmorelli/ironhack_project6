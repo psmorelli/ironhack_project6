{
 "nbformat": 4,
 "nbformat_minor": 2,
 "metadata": {
  "language_info": {
   "name": "python",
   "codemirror_mode": {
    "name": "ipython",
    "version": 3
   },
   "version": "3.7.6-final"
  },
  "orig_nbformat": 2,
  "file_extension": ".py",
  "mimetype": "text/x-python",
  "name": "python",
  "npconvert_exporter": "python",
  "pygments_lexer": "ipython3",
  "version": 3,
  "kernelspec": {
   "name": "python37664bitcoderedconda693c8a623b8d44c8a58a234a9205c665",
   "display_name": "Python 3.7.6 64-bit ('code_red': conda)"
  }
 },
 "cells": [
  {
   "source": [
    "import pandas as pd\n",
    "import numpy as np\n",
    "import matplotlib.pyplot as plt\n",
    "import seaborn as sns"
   ],
   "cell_type": "code",
   "outputs": [],
   "metadata": {},
   "execution_count": 2
  },
  {
   "source": [
    "input_file = \"data/Kickstarter.pkl\"\n",
    "df_kickstarter = pd.read_pickle(input_file)"
   ],
   "cell_type": "code",
   "outputs": [],
   "metadata": {},
   "execution_count": 11
  },
  {
   "cell_type": "code",
   "execution_count": 5,
   "metadata": {},
   "outputs": [
    {
     "data": {
      "text/html": "<div>\n<style scoped>\n    .dataframe tbody tr th:only-of-type {\n        vertical-align: middle;\n    }\n\n    .dataframe tbody tr th {\n        vertical-align: top;\n    }\n\n    .dataframe thead th {\n        text-align: right;\n    }\n</style>\n<table border=\"1\" class=\"dataframe\">\n  <thead>\n    <tr style=\"text-align: right;\">\n      <th></th>\n      <th>slug</th>\n      <th>name</th>\n      <th>blurb</th>\n      <th>category_lvl1</th>\n      <th>category_lvl2</th>\n      <th>country</th>\n      <th>created_at</th>\n      <th>deadline</th>\n      <th>launched_at</th>\n      <th>usd_goal</th>\n      <th>usd_pledged</th>\n      <th>state</th>\n      <th>state_changed_at</th>\n      <th>backers_count</th>\n      <th>user_id</th>\n      <th>project_url</th>\n      <th>extract_date</th>\n    </tr>\n  </thead>\n  <tbody>\n    <tr>\n      <th>0</th>\n      <td>playable-certification</td>\n      <td>Playable Certification (Canceled)</td>\n      <td>Authenticate and certificate collectible gamin...</td>\n      <td>games</td>\n      <td>gaming hardware</td>\n      <td>SE</td>\n      <td>2017-04-11 08:28:29</td>\n      <td>2017-12-24 13:00:00</td>\n      <td>2017-11-23 13:49:20</td>\n      <td>44479.36875</td>\n      <td>2963.986522</td>\n      <td>canceled</td>\n      <td>2017-12-19 16:47:25</td>\n      <td>31</td>\n      <td>1984360892</td>\n      <td>https://www.kickstarter.com/projects/198436089...</td>\n      <td>2019-10-17</td>\n    </tr>\n    <tr>\n      <th>1</th>\n      <td>deadirons-next-album</td>\n      <td>Deadiron's Next Album!</td>\n      <td>The latest in Deadiron heavy metal! Help us fu...</td>\n      <td>music</td>\n      <td>metal</td>\n      <td>US</td>\n      <td>2013-05-23 19:23:41</td>\n      <td>2013-09-01 03:59:00</td>\n      <td>2013-07-29 21:40:26</td>\n      <td>1000.00000</td>\n      <td>3485.000000</td>\n      <td>successful</td>\n      <td>2013-09-01 03:59:02</td>\n      <td>39</td>\n      <td>1340525642</td>\n      <td>https://www.kickstarter.com/projects/deadiron/...</td>\n      <td>2019-10-17</td>\n    </tr>\n    <tr>\n      <th>2</th>\n      <td>lindsey-holland-rick-holland-christmas-project...</td>\n      <td>Lindsey Holland Rick Holland Christmas Project...</td>\n      <td>Lindsey Holland Debut Vocal Disc with the Litt...</td>\n      <td>music</td>\n      <td>jazz</td>\n      <td>US</td>\n      <td>2013-08-16 15:13:59</td>\n      <td>2013-10-23 02:58:57</td>\n      <td>2013-08-24 02:58:57</td>\n      <td>3500.00000</td>\n      <td>3575.000000</td>\n      <td>successful</td>\n      <td>2013-10-23 02:58:58</td>\n      <td>42</td>\n      <td>1679924770</td>\n      <td>https://www.kickstarter.com/projects/167992477...</td>\n      <td>2019-10-17</td>\n    </tr>\n    <tr>\n      <th>3</th>\n      <td>the-belly-of-the-whale-is-the-belly-of-you</td>\n      <td>The Belly of the Whale is the Belly of You</td>\n      <td>Whales are washing up around the world with de...</td>\n      <td>art</td>\n      <td>mixed media</td>\n      <td>US</td>\n      <td>2018-07-10 20:38:49</td>\n      <td>2018-09-03 21:00:00</td>\n      <td>2018-08-01 15:27:55</td>\n      <td>5500.00000</td>\n      <td>5523.000000</td>\n      <td>successful</td>\n      <td>2018-09-03 21:00:00</td>\n      <td>21</td>\n      <td>NaN</td>\n      <td>https://www.kickstarter.com/projects/673151337...</td>\n      <td>2019-10-17</td>\n    </tr>\n    <tr>\n      <th>4</th>\n      <td>quartet-style-recording-my-jazz-vocal-cd-back-...</td>\n      <td>Quartet Style... Recording my jazz vocal CD \"B...</td>\n      <td>Spirited and talented crooner personality reac...</td>\n      <td>music</td>\n      <td>jazz</td>\n      <td>US</td>\n      <td>2013-04-29 03:31:00</td>\n      <td>2013-07-05 21:43:05</td>\n      <td>2013-05-06 21:43:05</td>\n      <td>9000.00000</td>\n      <td>100.000000</td>\n      <td>failed</td>\n      <td>2013-07-05 21:43:07</td>\n      <td>1</td>\n      <td>2018121664</td>\n      <td>https://www.kickstarter.com/projects/johnericb...</td>\n      <td>2019-10-17</td>\n    </tr>\n    <tr>\n      <th>...</th>\n      <td>...</td>\n      <td>...</td>\n      <td>...</td>\n      <td>...</td>\n      <td>...</td>\n      <td>...</td>\n      <td>...</td>\n      <td>...</td>\n      <td>...</td>\n      <td>...</td>\n      <td>...</td>\n      <td>...</td>\n      <td>...</td>\n      <td>...</td>\n      <td>...</td>\n      <td>...</td>\n      <td>...</td>\n    </tr>\n    <tr>\n      <th>632446</th>\n      <td>making-jenna-bialostoskys-awesome-debut-album</td>\n      <td>Making Jenna Bialostosky's awesome debut album.</td>\n      <td>I'm raising money to make my debut, self-relea...</td>\n      <td>music</td>\n      <td>jazz</td>\n      <td>US</td>\n      <td>2010-07-08 20:21:16</td>\n      <td>2010-08-31 22:01:00</td>\n      <td>2010-07-08 22:26:49</td>\n      <td>3000.00000</td>\n      <td>502.430000</td>\n      <td>failed</td>\n      <td>2010-08-31 22:15:12</td>\n      <td>14</td>\n      <td>910172365</td>\n      <td>https://www.kickstarter.com/projects/910172365...</td>\n      <td>2019-12-12</td>\n    </tr>\n    <tr>\n      <th>632447</th>\n      <td>startup-hot-sauce-company-with-a-florida-twist</td>\n      <td>Hoerner Bros Hot Sauce Company startup with a ...</td>\n      <td>We are starting a hot sauce company from the g...</td>\n      <td>food</td>\n      <td>small batch</td>\n      <td>US</td>\n      <td>2018-07-11 17:39:13</td>\n      <td>2018-08-26 19:41:03</td>\n      <td>2018-07-12 19:41:03</td>\n      <td>5000.00000</td>\n      <td>423.000000</td>\n      <td>failed</td>\n      <td>2018-08-26 19:41:03</td>\n      <td>13</td>\n      <td>1507111384</td>\n      <td>https://www.kickstarter.com/projects/150711138...</td>\n      <td>2019-12-12</td>\n    </tr>\n    <tr>\n      <th>632448</th>\n      <td>unpacked-urban-tote</td>\n      <td>Unpacked Urban Tote</td>\n      <td>Artist Designed Urban Tote\\nPunKin Apparel by ...</td>\n      <td>art</td>\n      <td>textiles</td>\n      <td>US</td>\n      <td>2019-05-16 19:20:15</td>\n      <td>2019-07-16 06:59:00</td>\n      <td>2019-06-15 12:54:21</td>\n      <td>700.00000</td>\n      <td>93.000000</td>\n      <td>failed</td>\n      <td>2019-07-16 06:59:00</td>\n      <td>3</td>\n      <td>782015432</td>\n      <td>https://www.kickstarter.com/projects/andreahic...</td>\n      <td>2019-12-12</td>\n    </tr>\n    <tr>\n      <th>632449</th>\n      <td>the-pumpkin-roll-express-mean-bean-cafe-express</td>\n      <td>The Pumpkin Roll Express/Mean Bean Cafe Express</td>\n      <td>Looking to expand my pumpkin roll sales to a m...</td>\n      <td>food</td>\n      <td>food trucks</td>\n      <td>US</td>\n      <td>2014-07-08 22:35:09</td>\n      <td>2014-08-31 22:35:00</td>\n      <td>2014-07-21 20:01:35</td>\n      <td>20000.00000</td>\n      <td>0.000000</td>\n      <td>failed</td>\n      <td>2014-08-31 22:35:00</td>\n      <td>0</td>\n      <td>488533259</td>\n      <td>https://www.kickstarter.com/projects/488533259...</td>\n      <td>2019-12-12</td>\n    </tr>\n    <tr>\n      <th>632450</th>\n      <td>eco-friendly-mobile-farm-stand-for-urban-food-...</td>\n      <td>ECO-FRIENDLY MOBILE FARM STAND FOR URBAN FOOD ...</td>\n      <td>All-electric mobile farm stand for transportin...</td>\n      <td>food</td>\n      <td>farmer's markets</td>\n      <td>US</td>\n      <td>2013-06-08 14:12:57</td>\n      <td>2015-04-08 17:20:06</td>\n      <td>2015-03-09 17:20:06</td>\n      <td>19000.00000</td>\n      <td>260.000000</td>\n      <td>failed</td>\n      <td>2015-04-08 17:20:08</td>\n      <td>6</td>\n      <td>1628035131</td>\n      <td>https://www.kickstarter.com/projects/162803513...</td>\n      <td>2019-12-12</td>\n    </tr>\n  </tbody>\n</table>\n<p>632451 rows × 17 columns</p>\n</div>",
      "text/plain": "                                                     slug  \\\n0                                  playable-certification   \n1                                    deadirons-next-album   \n2       lindsey-holland-rick-holland-christmas-project...   \n3              the-belly-of-the-whale-is-the-belly-of-you   \n4       quartet-style-recording-my-jazz-vocal-cd-back-...   \n...                                                   ...   \n632446      making-jenna-bialostoskys-awesome-debut-album   \n632447     startup-hot-sauce-company-with-a-florida-twist   \n632448                                unpacked-urban-tote   \n632449    the-pumpkin-roll-express-mean-bean-cafe-express   \n632450  eco-friendly-mobile-farm-stand-for-urban-food-...   \n\n                                                     name  \\\n0                       Playable Certification (Canceled)   \n1                                  Deadiron's Next Album!   \n2       Lindsey Holland Rick Holland Christmas Project...   \n3              The Belly of the Whale is the Belly of You   \n4       Quartet Style... Recording my jazz vocal CD \"B...   \n...                                                   ...   \n632446    Making Jenna Bialostosky's awesome debut album.   \n632447  Hoerner Bros Hot Sauce Company startup with a ...   \n632448                                Unpacked Urban Tote   \n632449    The Pumpkin Roll Express/Mean Bean Cafe Express   \n632450  ECO-FRIENDLY MOBILE FARM STAND FOR URBAN FOOD ...   \n\n                                                    blurb category_lvl1  \\\n0       Authenticate and certificate collectible gamin...         games   \n1       The latest in Deadiron heavy metal! Help us fu...         music   \n2       Lindsey Holland Debut Vocal Disc with the Litt...         music   \n3       Whales are washing up around the world with de...           art   \n4       Spirited and talented crooner personality reac...         music   \n...                                                   ...           ...   \n632446  I'm raising money to make my debut, self-relea...         music   \n632447  We are starting a hot sauce company from the g...          food   \n632448  Artist Designed Urban Tote\\nPunKin Apparel by ...           art   \n632449  Looking to expand my pumpkin roll sales to a m...          food   \n632450  All-electric mobile farm stand for transportin...          food   \n\n           category_lvl2 country          created_at            deadline  \\\n0        gaming hardware      SE 2017-04-11 08:28:29 2017-12-24 13:00:00   \n1                  metal      US 2013-05-23 19:23:41 2013-09-01 03:59:00   \n2                   jazz      US 2013-08-16 15:13:59 2013-10-23 02:58:57   \n3            mixed media      US 2018-07-10 20:38:49 2018-09-03 21:00:00   \n4                   jazz      US 2013-04-29 03:31:00 2013-07-05 21:43:05   \n...                  ...     ...                 ...                 ...   \n632446              jazz      US 2010-07-08 20:21:16 2010-08-31 22:01:00   \n632447       small batch      US 2018-07-11 17:39:13 2018-08-26 19:41:03   \n632448          textiles      US 2019-05-16 19:20:15 2019-07-16 06:59:00   \n632449       food trucks      US 2014-07-08 22:35:09 2014-08-31 22:35:00   \n632450  farmer's markets      US 2013-06-08 14:12:57 2015-04-08 17:20:06   \n\n               launched_at     usd_goal  usd_pledged       state  \\\n0      2017-11-23 13:49:20  44479.36875  2963.986522    canceled   \n1      2013-07-29 21:40:26   1000.00000  3485.000000  successful   \n2      2013-08-24 02:58:57   3500.00000  3575.000000  successful   \n3      2018-08-01 15:27:55   5500.00000  5523.000000  successful   \n4      2013-05-06 21:43:05   9000.00000   100.000000      failed   \n...                    ...          ...          ...         ...   \n632446 2010-07-08 22:26:49   3000.00000   502.430000      failed   \n632447 2018-07-12 19:41:03   5000.00000   423.000000      failed   \n632448 2019-06-15 12:54:21    700.00000    93.000000      failed   \n632449 2014-07-21 20:01:35  20000.00000     0.000000      failed   \n632450 2015-03-09 17:20:06  19000.00000   260.000000      failed   \n\n          state_changed_at  backers_count     user_id  \\\n0      2017-12-19 16:47:25             31  1984360892   \n1      2013-09-01 03:59:02             39  1340525642   \n2      2013-10-23 02:58:58             42  1679924770   \n3      2018-09-03 21:00:00             21         NaN   \n4      2013-07-05 21:43:07              1  2018121664   \n...                    ...            ...         ...   \n632446 2010-08-31 22:15:12             14   910172365   \n632447 2018-08-26 19:41:03             13  1507111384   \n632448 2019-07-16 06:59:00              3   782015432   \n632449 2014-08-31 22:35:00              0   488533259   \n632450 2015-04-08 17:20:08              6  1628035131   \n\n                                              project_url extract_date  \n0       https://www.kickstarter.com/projects/198436089...   2019-10-17  \n1       https://www.kickstarter.com/projects/deadiron/...   2019-10-17  \n2       https://www.kickstarter.com/projects/167992477...   2019-10-17  \n3       https://www.kickstarter.com/projects/673151337...   2019-10-17  \n4       https://www.kickstarter.com/projects/johnericb...   2019-10-17  \n...                                                   ...          ...  \n632446  https://www.kickstarter.com/projects/910172365...   2019-12-12  \n632447  https://www.kickstarter.com/projects/150711138...   2019-12-12  \n632448  https://www.kickstarter.com/projects/andreahic...   2019-12-12  \n632449  https://www.kickstarter.com/projects/488533259...   2019-12-12  \n632450  https://www.kickstarter.com/projects/162803513...   2019-12-12  \n\n[632451 rows x 17 columns]"
     },
     "execution_count": 5,
     "metadata": {},
     "output_type": "execute_result"
    }
   ],
   "source": [
    "df_kickstarter"
   ]
  },
  {
   "source": [
    "input_file = \"data/Kickstarter_unique.pkl\"\n",
    "df_kickstarter = pd.read_pickle(input_file)"
   ],
   "cell_type": "code",
   "outputs": [],
   "metadata": {},
   "execution_count": 14
  },
  {
   "source": [
    "df_kickstarter[df_kickstarter[\"slug\"] == \"enchantsia-kingdom-art-book\"]"
   ],
   "cell_type": "code",
   "outputs": [
    {
     "output_type": "execute_result",
     "data": {
      "text/plain": "                               slug                         name  \\\n593831  enchantsia-kingdom-art-book  Enchantsia Kingdom Art Book   \n\n                                                    blurb category_lvl1  \\\n593831  An art book created by 19 artists from around ...           art   \n\n       category_lvl2 country          created_at            deadline  \\\n593831  illustration      US 2018-11-14 05:18:10 2019-11-02 00:46:29   \n\n               launched_at  usd_goal  usd_pledged       state  \\\n593831 2019-10-02 00:46:29    1000.0       1815.0  successful   \n\n          state_changed_at  backers_count    user_id  \\\n593831 2019-11-02 00:46:31             23  966639862   \n\n                                              project_url extract_date  \\\n593831  https://www.kickstarter.com/projects/michidoan...   2019-12-12   \n\n       extract_month created_month  \n593831    2019-12-01    2018-11-01  ",
      "text/html": "<div>\n<style scoped>\n    .dataframe tbody tr th:only-of-type {\n        vertical-align: middle;\n    }\n\n    .dataframe tbody tr th {\n        vertical-align: top;\n    }\n\n    .dataframe thead th {\n        text-align: right;\n    }\n</style>\n<table border=\"1\" class=\"dataframe\">\n  <thead>\n    <tr style=\"text-align: right;\">\n      <th></th>\n      <th>slug</th>\n      <th>name</th>\n      <th>blurb</th>\n      <th>category_lvl1</th>\n      <th>category_lvl2</th>\n      <th>country</th>\n      <th>created_at</th>\n      <th>deadline</th>\n      <th>launched_at</th>\n      <th>usd_goal</th>\n      <th>usd_pledged</th>\n      <th>state</th>\n      <th>state_changed_at</th>\n      <th>backers_count</th>\n      <th>user_id</th>\n      <th>project_url</th>\n      <th>extract_date</th>\n      <th>extract_month</th>\n      <th>created_month</th>\n    </tr>\n  </thead>\n  <tbody>\n    <tr>\n      <th>593831</th>\n      <td>enchantsia-kingdom-art-book</td>\n      <td>Enchantsia Kingdom Art Book</td>\n      <td>An art book created by 19 artists from around ...</td>\n      <td>art</td>\n      <td>illustration</td>\n      <td>US</td>\n      <td>2018-11-14 05:18:10</td>\n      <td>2019-11-02 00:46:29</td>\n      <td>2019-10-02 00:46:29</td>\n      <td>1000.0</td>\n      <td>1815.0</td>\n      <td>successful</td>\n      <td>2019-11-02 00:46:31</td>\n      <td>23</td>\n      <td>966639862</td>\n      <td>https://www.kickstarter.com/projects/michidoan...</td>\n      <td>2019-12-12</td>\n      <td>2019-12-01</td>\n      <td>2018-11-01</td>\n    </tr>\n  </tbody>\n</table>\n</div>"
     },
     "metadata": {},
     "execution_count": 15
    }
   ],
   "metadata": {},
   "execution_count": 15
  }
 ]
}